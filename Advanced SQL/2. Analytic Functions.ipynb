{
  "cells": [
    {
      "metadata": {},
      "cell_type": "markdown",
      "source": "**[Advanced SQL Home Page](https://www.kaggle.com/learn/advanced-sql)**\n\n---\n"
    },
    {
      "metadata": {},
      "cell_type": "markdown",
      "source": "# Introduction\n\nHere, you'll use window functions to answer questions about the [Chicago Taxi Trips](https://www.kaggle.com/chicago/chicago-taxi-trips-bq) dataset.\n\nBefore you get started, run the code cell below to set everything up."
    },
    {
      "metadata": {
        "trusted": true
      },
      "cell_type": "code",
      "source": "# Set up feedback system\nfrom learntools.core import binder\nbinder.bind(globals())\nfrom learntools.sql_advanced.ex2 import *\nprint(\"Setup Complete\")",
      "execution_count": 1,
      "outputs": [
        {
          "output_type": "stream",
          "text": "Using Kaggle's public dataset BigQuery integration.\nSetup Complete\n",
          "name": "stdout"
        }
      ]
    },
    {
      "metadata": {},
      "cell_type": "markdown",
      "source": "The following code cell fetches the `taxi_trips` table from the `chicago_taxi_trips` dataset. We also preview the first five rows of the table.  You'll use the table to answer the questions below."
    },
    {
      "metadata": {
        "trusted": true
      },
      "cell_type": "code",
      "source": "from google.cloud import bigquery\n\n# Create a \"Client\" object\nclient = bigquery.Client()\n\n# Construct a reference to the \"chicago_taxi_trips\" dataset\ndataset_ref = client.dataset(\"chicago_taxi_trips\", project=\"bigquery-public-data\")\n\n# API request - fetch the dataset\ndataset = client.get_dataset(dataset_ref)\n\n# Construct a reference to the \"taxi_trips\" table\ntable_ref = dataset_ref.table(\"taxi_trips\")\n\n# API request - fetch the table\ntable = client.get_table(table_ref)\n\n# Preview the first five lines of the table\nclient.list_rows(table, max_results=5).to_dataframe()",
      "execution_count": 2,
      "outputs": [
        {
          "output_type": "stream",
          "text": "Using Kaggle's public dataset BigQuery integration.\n",
          "name": "stdout"
        },
        {
          "output_type": "execute_result",
          "execution_count": 2,
          "data": {
            "text/plain": "                                 unique_key  \\\n0  cadcdac20ae6fa316f373b1e7366dcbcf160f35a   \n1  d2f8e01280a6861a724ad0a2d24db25b3fd245a8   \n2  e566f374c3ce214fb9170ba14d0e648752bd81e5   \n3  968d05efd75e683d791762eb6e6531d0795eb4a0   \n4  f71eaace3a2e9c82c2af7c37079638c038a21904   \n\n                                             taxi_id  \\\n0  ca8207873c4c7a554302315256aec1e8af1a1b06fb6a42...   \n1  9d13be29c8c770d60d1e3f2d1cade0e2adec9e3d1d0314...   \n2  a7cbd93ebf9659f220d75160974932345a5c726ebd4ab4...   \n3  9959d6a305434212add615716160196621fe1be826d1d8...   \n4  f737a9a31b07650672910268d7cceb9c06a379c0e75070...   \n\n       trip_start_timestamp        trip_end_timestamp  trip_seconds  \\\n0 2014-11-03 23:15:00+00:00 2014-11-03 23:15:00+00:00             0   \n1 2014-10-24 12:00:00+00:00 2014-10-24 12:00:00+00:00             0   \n2 2014-10-03 00:15:00+00:00 2014-10-03 02:15:00+00:00          7680   \n3 2014-12-18 20:00:00+00:00 2014-12-18 20:00:00+00:00            60   \n4 2015-01-16 09:00:00+00:00 2015-01-16 09:15:00+00:00           600   \n\n   trip_miles pickup_census_tract dropoff_census_tract pickup_community_area  \\\n0        17.7                None                 None                  None   \n1         0.0                None                 None                  None   \n2        57.1                None                 None                  None   \n3         0.0                None                 None                  None   \n4         4.0                None                 None                  None   \n\n  dropoff_community_area  ... extras trip_total payment_type company  \\\n0                   None  ...   None       None  Credit Card    None   \n1                   None  ...   None       None  Credit Card    None   \n2                   None  ...   None       None         Cash    None   \n3                   None  ...   None       None  Credit Card    None   \n4                   None  ...   None       None  Credit Card    None   \n\n  pickup_latitude pickup_longitude pickup_location dropoff_latitude  \\\n0            None             None            None             None   \n1            None             None            None             None   \n2            None             None            None             None   \n3            None             None            None             None   \n4            None             None            None             None   \n\n  dropoff_longitude dropoff_location  \n0              None             None  \n1              None             None  \n2              None             None  \n3              None             None  \n4              None             None  \n\n[5 rows x 23 columns]",
            "text/html": "<div>\n<style scoped>\n    .dataframe tbody tr th:only-of-type {\n        vertical-align: middle;\n    }\n\n    .dataframe tbody tr th {\n        vertical-align: top;\n    }\n\n    .dataframe thead th {\n        text-align: right;\n    }\n</style>\n<table border=\"1\" class=\"dataframe\">\n  <thead>\n    <tr style=\"text-align: right;\">\n      <th></th>\n      <th>unique_key</th>\n      <th>taxi_id</th>\n      <th>trip_start_timestamp</th>\n      <th>trip_end_timestamp</th>\n      <th>trip_seconds</th>\n      <th>trip_miles</th>\n      <th>pickup_census_tract</th>\n      <th>dropoff_census_tract</th>\n      <th>pickup_community_area</th>\n      <th>dropoff_community_area</th>\n      <th>...</th>\n      <th>extras</th>\n      <th>trip_total</th>\n      <th>payment_type</th>\n      <th>company</th>\n      <th>pickup_latitude</th>\n      <th>pickup_longitude</th>\n      <th>pickup_location</th>\n      <th>dropoff_latitude</th>\n      <th>dropoff_longitude</th>\n      <th>dropoff_location</th>\n    </tr>\n  </thead>\n  <tbody>\n    <tr>\n      <td>0</td>\n      <td>cadcdac20ae6fa316f373b1e7366dcbcf160f35a</td>\n      <td>ca8207873c4c7a554302315256aec1e8af1a1b06fb6a42...</td>\n      <td>2014-11-03 23:15:00+00:00</td>\n      <td>2014-11-03 23:15:00+00:00</td>\n      <td>0</td>\n      <td>17.7</td>\n      <td>None</td>\n      <td>None</td>\n      <td>None</td>\n      <td>None</td>\n      <td>...</td>\n      <td>None</td>\n      <td>None</td>\n      <td>Credit Card</td>\n      <td>None</td>\n      <td>None</td>\n      <td>None</td>\n      <td>None</td>\n      <td>None</td>\n      <td>None</td>\n      <td>None</td>\n    </tr>\n    <tr>\n      <td>1</td>\n      <td>d2f8e01280a6861a724ad0a2d24db25b3fd245a8</td>\n      <td>9d13be29c8c770d60d1e3f2d1cade0e2adec9e3d1d0314...</td>\n      <td>2014-10-24 12:00:00+00:00</td>\n      <td>2014-10-24 12:00:00+00:00</td>\n      <td>0</td>\n      <td>0.0</td>\n      <td>None</td>\n      <td>None</td>\n      <td>None</td>\n      <td>None</td>\n      <td>...</td>\n      <td>None</td>\n      <td>None</td>\n      <td>Credit Card</td>\n      <td>None</td>\n      <td>None</td>\n      <td>None</td>\n      <td>None</td>\n      <td>None</td>\n      <td>None</td>\n      <td>None</td>\n    </tr>\n    <tr>\n      <td>2</td>\n      <td>e566f374c3ce214fb9170ba14d0e648752bd81e5</td>\n      <td>a7cbd93ebf9659f220d75160974932345a5c726ebd4ab4...</td>\n      <td>2014-10-03 00:15:00+00:00</td>\n      <td>2014-10-03 02:15:00+00:00</td>\n      <td>7680</td>\n      <td>57.1</td>\n      <td>None</td>\n      <td>None</td>\n      <td>None</td>\n      <td>None</td>\n      <td>...</td>\n      <td>None</td>\n      <td>None</td>\n      <td>Cash</td>\n      <td>None</td>\n      <td>None</td>\n      <td>None</td>\n      <td>None</td>\n      <td>None</td>\n      <td>None</td>\n      <td>None</td>\n    </tr>\n    <tr>\n      <td>3</td>\n      <td>968d05efd75e683d791762eb6e6531d0795eb4a0</td>\n      <td>9959d6a305434212add615716160196621fe1be826d1d8...</td>\n      <td>2014-12-18 20:00:00+00:00</td>\n      <td>2014-12-18 20:00:00+00:00</td>\n      <td>60</td>\n      <td>0.0</td>\n      <td>None</td>\n      <td>None</td>\n      <td>None</td>\n      <td>None</td>\n      <td>...</td>\n      <td>None</td>\n      <td>None</td>\n      <td>Credit Card</td>\n      <td>None</td>\n      <td>None</td>\n      <td>None</td>\n      <td>None</td>\n      <td>None</td>\n      <td>None</td>\n      <td>None</td>\n    </tr>\n    <tr>\n      <td>4</td>\n      <td>f71eaace3a2e9c82c2af7c37079638c038a21904</td>\n      <td>f737a9a31b07650672910268d7cceb9c06a379c0e75070...</td>\n      <td>2015-01-16 09:00:00+00:00</td>\n      <td>2015-01-16 09:15:00+00:00</td>\n      <td>600</td>\n      <td>4.0</td>\n      <td>None</td>\n      <td>None</td>\n      <td>None</td>\n      <td>None</td>\n      <td>...</td>\n      <td>None</td>\n      <td>None</td>\n      <td>Credit Card</td>\n      <td>None</td>\n      <td>None</td>\n      <td>None</td>\n      <td>None</td>\n      <td>None</td>\n      <td>None</td>\n      <td>None</td>\n    </tr>\n  </tbody>\n</table>\n<p>5 rows × 23 columns</p>\n</div>"
          },
          "metadata": {}
        }
      ]
    },
    {
      "metadata": {},
      "cell_type": "markdown",
      "source": "# Exercises\n\n### 1) How can you predict the demand for taxis?\n\nSay you work for a taxi company, and you're interested in predicting the demand for taxis.  Towards this goal, you'd like to create a plot that shows a rolling average of the daily number of taxi trips.  Amend the (partial) query below to return a DataFrame with two columns:\n- `trip_date` - contains one entry for each date from January 1, 2016, to December 31, 2017.\n- `avg_num_trips` - shows the average number of daily trips, calculated over a window including the value for the current date, along with the values for the preceding 15 days and the following 15 days, as long as the days fit within the two-year time frame.  For instance, when calculating the value in this column for January 5, 2016, the window will include the number of trips for the preceding 4 days, the current date, and the following 15 days.\n\nThis query is partially completed for you, and you need only write the part that calculates the `avg_num_trips` column.  Note that this query uses a common table expression (CTE); if you need to review how to use CTEs, you're encouraged to check out [this tutorial](https://www.kaggle.com/dansbecker/as-with) in the [Intro to SQL](https://www.kaggle.com/learn/intro-to-sql) micro-course."
    },
    {
      "metadata": {
        "trusted": true
      },
      "cell_type": "code",
      "source": "# Fill in the blank below\navg_num_trips_query = \"\"\"\n                      WITH trips_by_day AS\n                      (\n                      SELECT DATE(trip_start_timestamp) AS trip_date,\n                          COUNT(*) as num_trips\n                      FROM `bigquery-public-data.chicago_taxi_trips.taxi_trips`\n                      WHERE trip_start_timestamp >= '2016-01-01' AND trip_start_timestamp < '2018-01-01'\n                      GROUP BY trip_date\n                      ORDER BY trip_date\n                      )\n                      SELECT trip_date,\n                          AVG(num_trips)\n                          OVER (\n                               ORDER BY trip_date\n                               ROWS BETWEEN 15 PRECEDING AND 15 FOLLOWING\n                               ) AS avg_num_trips\n                      FROM trips_by_day\n                      \"\"\"\n\n# Check your answer\nq_1.check()",
      "execution_count": 3,
      "outputs": [
        {
          "output_type": "display_data",
          "data": {
            "text/plain": "    trip_date  avg_num_trips\n0  2016-01-01   80461.937500\n1  2016-01-02   80150.647059\n2  2016-01-03   79419.611111\n3  2016-01-04   79810.421053\n4  2016-01-05   80293.900000",
            "text/html": "<div>\n<style scoped>\n    .dataframe tbody tr th:only-of-type {\n        vertical-align: middle;\n    }\n\n    .dataframe tbody tr th {\n        vertical-align: top;\n    }\n\n    .dataframe thead th {\n        text-align: right;\n    }\n</style>\n<table border=\"1\" class=\"dataframe\">\n  <thead>\n    <tr style=\"text-align: right;\">\n      <th></th>\n      <th>trip_date</th>\n      <th>avg_num_trips</th>\n    </tr>\n  </thead>\n  <tbody>\n    <tr>\n      <td>0</td>\n      <td>2016-01-01</td>\n      <td>80461.937500</td>\n    </tr>\n    <tr>\n      <td>1</td>\n      <td>2016-01-02</td>\n      <td>80150.647059</td>\n    </tr>\n    <tr>\n      <td>2</td>\n      <td>2016-01-03</td>\n      <td>79419.611111</td>\n    </tr>\n    <tr>\n      <td>3</td>\n      <td>2016-01-04</td>\n      <td>79810.421053</td>\n    </tr>\n    <tr>\n      <td>4</td>\n      <td>2016-01-05</td>\n      <td>80293.900000</td>\n    </tr>\n  </tbody>\n</table>\n</div>"
          },
          "metadata": {}
        },
        {
          "output_type": "display_data",
          "data": {
            "text/plain": "<IPython.core.display.Javascript object>",
            "application/javascript": "parent.postMessage({\"jupyterEvent\": \"custom.exercise_interaction\", \"data\": {\"outcomeType\": 1, \"valueTowardsCompletion\": 0.3333333333333333, \"interactionType\": 1, \"questionType\": 2, \"learnTutorialId\": 267, \"questionId\": \"1_TaxiDemand\", \"learnToolsVersion\": \"0.3.2\", \"failureMessage\": \"\", \"exceptionClass\": \"\", \"trace\": \"\"}}, \"*\")"
          },
          "metadata": {}
        },
        {
          "output_type": "display_data",
          "data": {
            "text/plain": "Correct",
            "text/markdown": "<span style=\"color:#33cc33\">Correct</span>"
          },
          "metadata": {}
        }
      ]
    },
    {
      "metadata": {
        "trusted": true
      },
      "cell_type": "code",
      "source": "# Lines below will give you a hint or solution code\n#q_1.hint()\n#q_1.solution()",
      "execution_count": 4,
      "outputs": []
    },
    {
      "metadata": {},
      "cell_type": "markdown",
      "source": "### 2) Can you separate and order trips by community area?\n\nThe query below returns a DataFrame with three columns from the table: `pickup_community_area`, `trip_start_timestamp`, and `trip_end_timestamp`.  \n\nAmend the query to return an additional column called `trip_number` which shows the order in which the trips were taken from their respective community areas.  So, the first trip of the day originating from community area 1 should receive a value of 1; the second trip of the day from the same area should receive a value of 2.  Likewise, the first trip of the day from community area 2 should receive a value of 1, and so on.\n\nNote that there are many numbering functions that can be used to solve this problem (depending on how you want to deal with trips that started at the same time from the same community area); to answer this question, please use the **RANK()** function."
    },
    {
      "metadata": {
        "trusted": true
      },
      "cell_type": "code",
      "source": "# Amend the query below\ntrip_number_query = \"\"\"\n                    SELECT pickup_community_area,\n                        trip_start_timestamp,\n                        trip_end_timestamp,\n                        RANK()\n                            OVER (\n                                 PARTITION BY pickup_community_area\n                                 ORDER BY trip_start_timestamp\n                                 ) AS trip_number\n                    FROM `bigquery-public-data.chicago_taxi_trips.taxi_trips`\n                    WHERE DATE(trip_start_timestamp) = '2017-05-01'\n                    \"\"\"\n\n# Check your answer\nq_2.check()",
      "execution_count": 5,
      "outputs": [
        {
          "output_type": "display_data",
          "data": {
            "text/plain": "   pickup_community_area      trip_start_timestamp        trip_end_timestamp  \\\n0                   19.0 2017-05-01 00:30:00+00:00 2017-05-01 01:15:00+00:00   \n1                   19.0 2017-05-01 01:15:00+00:00 2017-05-01 01:30:00+00:00   \n2                   19.0 2017-05-01 01:45:00+00:00 2017-05-01 01:45:00+00:00   \n3                   19.0 2017-05-01 02:15:00+00:00 2017-05-01 02:30:00+00:00   \n4                   19.0 2017-05-01 02:15:00+00:00 2017-05-01 02:30:00+00:00   \n\n   trip_number  \n0            1  \n1            2  \n2            3  \n3            4  \n4            4  ",
            "text/html": "<div>\n<style scoped>\n    .dataframe tbody tr th:only-of-type {\n        vertical-align: middle;\n    }\n\n    .dataframe tbody tr th {\n        vertical-align: top;\n    }\n\n    .dataframe thead th {\n        text-align: right;\n    }\n</style>\n<table border=\"1\" class=\"dataframe\">\n  <thead>\n    <tr style=\"text-align: right;\">\n      <th></th>\n      <th>pickup_community_area</th>\n      <th>trip_start_timestamp</th>\n      <th>trip_end_timestamp</th>\n      <th>trip_number</th>\n    </tr>\n  </thead>\n  <tbody>\n    <tr>\n      <td>0</td>\n      <td>19.0</td>\n      <td>2017-05-01 00:30:00+00:00</td>\n      <td>2017-05-01 01:15:00+00:00</td>\n      <td>1</td>\n    </tr>\n    <tr>\n      <td>1</td>\n      <td>19.0</td>\n      <td>2017-05-01 01:15:00+00:00</td>\n      <td>2017-05-01 01:30:00+00:00</td>\n      <td>2</td>\n    </tr>\n    <tr>\n      <td>2</td>\n      <td>19.0</td>\n      <td>2017-05-01 01:45:00+00:00</td>\n      <td>2017-05-01 01:45:00+00:00</td>\n      <td>3</td>\n    </tr>\n    <tr>\n      <td>3</td>\n      <td>19.0</td>\n      <td>2017-05-01 02:15:00+00:00</td>\n      <td>2017-05-01 02:30:00+00:00</td>\n      <td>4</td>\n    </tr>\n    <tr>\n      <td>4</td>\n      <td>19.0</td>\n      <td>2017-05-01 02:15:00+00:00</td>\n      <td>2017-05-01 02:30:00+00:00</td>\n      <td>4</td>\n    </tr>\n  </tbody>\n</table>\n</div>"
          },
          "metadata": {}
        },
        {
          "output_type": "display_data",
          "data": {
            "text/plain": "<IPython.core.display.Javascript object>",
            "application/javascript": "parent.postMessage({\"jupyterEvent\": \"custom.exercise_interaction\", \"data\": {\"outcomeType\": 1, \"valueTowardsCompletion\": 0.3333333333333333, \"interactionType\": 1, \"questionType\": 2, \"learnTutorialId\": 267, \"questionId\": \"2_CommunityArea\", \"learnToolsVersion\": \"0.3.2\", \"failureMessage\": \"\", \"exceptionClass\": \"\", \"trace\": \"\"}}, \"*\")"
          },
          "metadata": {}
        },
        {
          "output_type": "display_data",
          "data": {
            "text/plain": "Correct",
            "text/markdown": "<span style=\"color:#33cc33\">Correct</span>"
          },
          "metadata": {}
        }
      ]
    },
    {
      "metadata": {
        "trusted": true
      },
      "cell_type": "code",
      "source": "# Lines below will give you a hint or solution code\n#q_2.hint()\n#q_2.solution()",
      "execution_count": 6,
      "outputs": []
    },
    {
      "metadata": {},
      "cell_type": "markdown",
      "source": "### 3) How much time elapses between trips?\n\nThe (partial) query in the code cell below shows, for each trip in the selected time frame, the corresponding `taxi_id`, `trip_start_timestamp`, and `trip_end_timestamp`. \n\nYour task in this exercise is to edit the query to include an additional `prev_break` column that shows the length of the break (in minutes) that the driver had before each trip started (this corresponds to the time between `trip_start_timestamp` of the current trip and `trip_end_timestamp` of the previous trip).  Partition the calculation by `taxi_id`, and order the results within each partition by `trip_start_timestamp`.\n\nSome sample results are shown below, where all rows correspond to the same driver (or `taxi_id`).  Take the time now to make sure that the values in the `prev_break` column make sense to you!\n\n![first_commands](https://i.imgur.com/qjvQzg8.png)\n\nNote that the first trip of the day for each driver should have a value of **NaN** (not a number) in the `prev_break` column."
    },
    {
      "metadata": {
        "trusted": true
      },
      "cell_type": "code",
      "source": "# Fill in the blanks below\nbreak_time_query = \"\"\"\n                   SELECT taxi_id,\n                       trip_start_timestamp,\n                       trip_end_timestamp,\n                       TIMESTAMP_DIFF(\n                           trip_start_timestamp, \n                           LAG(trip_end_timestamp) \n                               OVER (\n                                    PARTITION BY taxi_id \n                                    ORDER BY trip_start_timestamp), \n                           MINUTE) as prev_break\n                   FROM `bigquery-public-data.chicago_taxi_trips.taxi_trips`\n                   WHERE DATE(trip_start_timestamp) = '2017-05-01' \n                   \"\"\"\n\n# Check your answer\nq_3.check()",
      "execution_count": 7,
      "outputs": [
        {
          "output_type": "display_data",
          "data": {
            "text/plain": "                                             taxi_id  \\\n0  0cc386ac0196c75139688ca036f726aa36118b6fa0cca9...   \n1  0cc386ac0196c75139688ca036f726aa36118b6fa0cca9...   \n2  0cc386ac0196c75139688ca036f726aa36118b6fa0cca9...   \n3  0cc386ac0196c75139688ca036f726aa36118b6fa0cca9...   \n4  0cc386ac0196c75139688ca036f726aa36118b6fa0cca9...   \n\n       trip_start_timestamp        trip_end_timestamp  prev_break  \n0 2017-05-01 09:00:00+00:00 2017-05-01 09:15:00+00:00         NaN  \n1 2017-05-01 11:15:00+00:00 2017-05-01 11:45:00+00:00       120.0  \n2 2017-05-01 11:15:00+00:00 2017-05-01 11:15:00+00:00       -30.0  \n3 2017-05-01 14:30:00+00:00 2017-05-01 15:15:00+00:00       195.0  \n4 2017-05-01 15:45:00+00:00 2017-05-01 15:45:00+00:00        30.0  ",
            "text/html": "<div>\n<style scoped>\n    .dataframe tbody tr th:only-of-type {\n        vertical-align: middle;\n    }\n\n    .dataframe tbody tr th {\n        vertical-align: top;\n    }\n\n    .dataframe thead th {\n        text-align: right;\n    }\n</style>\n<table border=\"1\" class=\"dataframe\">\n  <thead>\n    <tr style=\"text-align: right;\">\n      <th></th>\n      <th>taxi_id</th>\n      <th>trip_start_timestamp</th>\n      <th>trip_end_timestamp</th>\n      <th>prev_break</th>\n    </tr>\n  </thead>\n  <tbody>\n    <tr>\n      <td>0</td>\n      <td>0cc386ac0196c75139688ca036f726aa36118b6fa0cca9...</td>\n      <td>2017-05-01 09:00:00+00:00</td>\n      <td>2017-05-01 09:15:00+00:00</td>\n      <td>NaN</td>\n    </tr>\n    <tr>\n      <td>1</td>\n      <td>0cc386ac0196c75139688ca036f726aa36118b6fa0cca9...</td>\n      <td>2017-05-01 11:15:00+00:00</td>\n      <td>2017-05-01 11:45:00+00:00</td>\n      <td>120.0</td>\n    </tr>\n    <tr>\n      <td>2</td>\n      <td>0cc386ac0196c75139688ca036f726aa36118b6fa0cca9...</td>\n      <td>2017-05-01 11:15:00+00:00</td>\n      <td>2017-05-01 11:15:00+00:00</td>\n      <td>-30.0</td>\n    </tr>\n    <tr>\n      <td>3</td>\n      <td>0cc386ac0196c75139688ca036f726aa36118b6fa0cca9...</td>\n      <td>2017-05-01 14:30:00+00:00</td>\n      <td>2017-05-01 15:15:00+00:00</td>\n      <td>195.0</td>\n    </tr>\n    <tr>\n      <td>4</td>\n      <td>0cc386ac0196c75139688ca036f726aa36118b6fa0cca9...</td>\n      <td>2017-05-01 15:45:00+00:00</td>\n      <td>2017-05-01 15:45:00+00:00</td>\n      <td>30.0</td>\n    </tr>\n  </tbody>\n</table>\n</div>"
          },
          "metadata": {}
        },
        {
          "output_type": "display_data",
          "data": {
            "text/plain": "<IPython.core.display.Javascript object>",
            "application/javascript": "parent.postMessage({\"jupyterEvent\": \"custom.exercise_interaction\", \"data\": {\"outcomeType\": 1, \"valueTowardsCompletion\": 0.3333333333333333, \"interactionType\": 1, \"questionType\": 2, \"learnTutorialId\": 267, \"questionId\": \"3_BreakTime\", \"learnToolsVersion\": \"0.3.2\", \"failureMessage\": \"\", \"exceptionClass\": \"\", \"trace\": \"\"}}, \"*\")"
          },
          "metadata": {}
        },
        {
          "output_type": "display_data",
          "data": {
            "text/plain": "Correct",
            "text/markdown": "<span style=\"color:#33cc33\">Correct</span>"
          },
          "metadata": {}
        }
      ]
    },
    {
      "metadata": {
        "trusted": true
      },
      "cell_type": "code",
      "source": "# Lines below will give you a hint or solution code\nq_3.hint()\n#q_3.solution()",
      "execution_count": 8,
      "outputs": [
        {
          "output_type": "display_data",
          "data": {
            "text/plain": "<IPython.core.display.Javascript object>",
            "application/javascript": "parent.postMessage({\"jupyterEvent\": \"custom.exercise_interaction\", \"data\": {\"interactionType\": 2, \"questionType\": 2, \"learnTutorialId\": 267, \"questionId\": \"3_BreakTime\", \"learnToolsVersion\": \"0.3.2\", \"valueTowardsCompletion\": 0.0, \"failureMessage\": \"\", \"exceptionClass\": \"\", \"trace\": \"\", \"outcomeType\": 4}}, \"*\")"
          },
          "metadata": {}
        },
        {
          "output_type": "display_data",
          "data": {
            "text/plain": "Hint: The `TIMESTAMP_DIFF()` function takes three arguments, where the first (`trip_start_timestamp`) and the last (`MINUTE`) are provided for you.  This function provides the time difference (in minutes) of the timestamps in the first two arguments. You need only fill in the second argument, which should use the **LAG()** function to pull the timestamp corresponding to the end of the previous trip (for the same `taxi_id`).",
            "text/markdown": "<span style=\"color:#3366cc\">Hint:</span> The `TIMESTAMP_DIFF()` function takes three arguments, where the first (`trip_start_timestamp`) and the last (`MINUTE`) are provided for you.  This function provides the time difference (in minutes) of the timestamps in the first two arguments. You need only fill in the second argument, which should use the **LAG()** function to pull the timestamp corresponding to the end of the previous trip (for the same `taxi_id`)."
          },
          "metadata": {}
        }
      ]
    },
    {
      "metadata": {},
      "cell_type": "markdown",
      "source": "# Keep going\n\nMove on to learn how to query **[nested and repeated data](https://www.kaggle.com/alexisbcook/nested-and-repeated-data)**."
    },
    {
      "metadata": {},
      "cell_type": "markdown",
      "source": "---\n**[Advanced SQL Home Page](https://www.kaggle.com/learn/advanced-sql)**\n\n\n\n\n\n*Have questions or comments? Visit the [Learn Discussion forum](https://www.kaggle.com/learn-forum) to chat with other Learners.*"
    }
  ],
  "metadata": {
    "kernelspec": {
      "display_name": "Python 3",
      "language": "python",
      "name": "python3"
    },
    "language_info": {
      "codemirror_mode": {
        "name": "ipython",
        "version": 3
      },
      "file_extension": ".py",
      "mimetype": "text/x-python",
      "name": "python",
      "nbconvert_exporter": "python",
      "pygments_lexer": "ipython3",
      "version": "3.6.5"
    }
  },
  "nbformat": 4,
  "nbformat_minor": 1
}