{
    "cells": [
        {
            "metadata": {},
            "cell_type": "markdown",
            "source": "**[Data Visualization: From Non-Coder to Coder Home Page](https://www.kaggle.com/learn/data-visualization-from-non-coder-to-coder)**\n\n---\n"
        },
        {
            "metadata": {},
            "cell_type": "markdown",
            "source": "In this exercise, you will use your new knowledge to propose a solution to a real-world scenario.  To succeed, you will need to import data into Python, answer questions using the data, and generate **histograms** and **density plots** to understand patterns in the data.\n\n## Scenario\n\nYou'll work with a real-world dataset containing information collected from microscopic images of breast cancer tumors, similar to the image below.\n\n![ex4_cancer_image](https://i.imgur.com/qUESsJe.png)\n\nEach tumor has been labeled as either [**benign**](https://en.wikipedia.org/wiki/Benign_tumor) (_noncancerous_) or **malignant** (_cancerous_).\n\nTo learn more about how this kind of data is used to create intelligent algorithms to classify tumors in medical settings, **watch the short video [at this link](https://www.youtube.com/watch?v=9Mz84cwVmS0)**!"
        },
        {
            "metadata": {},
            "cell_type": "markdown",
            "source": "\n\n## Setup\n\nRun the next cell to import and configure the Python libraries that you need to complete the exercise."
        },
        {
            "metadata": {
                "trusted": true
            },
            "cell_type": "code",
            "source": "import pandas as pd\nimport matplotlib.pyplot as plt\n%matplotlib inline\nimport seaborn as sns\nprint(\"Setup Complete\")",
            "execution_count": 1,
            "outputs": [
                {
                    "output_type": "stream",
                    "text": "Setup Complete\n",
                    "name": "stdout"
                }
            ]
        },
        {
            "metadata": {},
            "cell_type": "markdown",
            "source": "The questions below will give you feedback on your work. Run the following cell to set up our feedback system."
        },
        {
            "metadata": {
                "trusted": true
            },
            "cell_type": "code",
            "source": "# Set up code checking\nimport os\nif not os.path.exists(\"../input/cancer_b.csv\"):\n    os.symlink(\"../input/data-for-datavis/cancer_b.csv\", \"../input/cancer_b.csv\")\n    os.symlink(\"../input/data-for-datavis/cancer_m.csv\", \"../input/cancer_m.csv\")\nfrom learntools.core import binder\nbinder.bind(globals())\nfrom learntools.data_viz_to_coder.ex5 import *\nprint(\"Setup Complete\")",
            "execution_count": 2,
            "outputs": [
                {
                    "output_type": "stream",
                    "text": "Setup Complete\n",
                    "name": "stdout"
                }
            ]
        },
        {
            "metadata": {},
            "cell_type": "markdown",
            "source": "## Step 1: Load the data\n\nIn this step, you will load two data files.\n- Load the data file corresponding to **benign** tumors into a DataFrame called `cancer_b_data`.  The corresponding filepath is `cancer_b_filepath`.  Use the `\"Id\"` column to label the rows.\n- Load the data file corresponding to **malignant** tumors into a DataFrame called `cancer_m_data`.  The corresponding filepath is `cancer_m_filepath`.  Use the `\"Id\"` column to label the rows."
        },
        {
            "metadata": {
                "trusted": true
            },
            "cell_type": "code",
            "source": "# Paths of the files to read\ncancer_b_filepath = \"../input/cancer_b.csv\"\ncancer_m_filepath = \"../input/cancer_m.csv\"\n\n# Fill in the line below to read the (benign) file into a variable cancer_b_data\ncancer_b_data = pd.read_csv(cancer_b_filepath, index_col=\"Id\")\n\n# Fill in the line below to read the (malignant) file into a variable cancer_m_data\ncancer_m_data = pd.read_csv(cancer_m_filepath, index_col=\"Id\")\n\n# Run the line below with no changes to check that you've loaded the data correctly\nstep_1.check()",
            "execution_count": 3,
            "outputs": [
                {
                    "output_type": "display_data",
                    "data": {
                        "text/plain": "<IPython.core.display.Javascript object>",
                        "application/javascript": "parent.postMessage({\"jupyterEvent\": \"custom.exercise_interaction\", \"data\": {\"outcomeType\": 1, \"valueTowardsCompletion\": 0.5, \"interactionType\": 1, \"questionType\": 1, \"learnTutorialId\": 191, \"questionId\": \"1_LoadCancerData\", \"learnToolsVersion\": \"0.3.1\", \"failureMessage\": \"\", \"exceptionClass\": \"\", \"trace\": \"\"}}, \"*\")"
                    },
                    "metadata": {}
                },
                {
                    "output_type": "display_data",
                    "data": {
                        "text/plain": "Correct",
                        "text/markdown": "<span style=\"color:#33cc33\">Correct</span>"
                    },
                    "metadata": {}
                }
            ]
        },
        {
            "metadata": {
                "trusted": true
            },
            "cell_type": "code",
            "source": "# Lines below will give you a hint or solution code\nstep_1.hint()\nstep_1.solution()",
            "execution_count": 4,
            "outputs": [
                {
                    "output_type": "display_data",
                    "data": {
                        "text/plain": "<IPython.core.display.Javascript object>",
                        "application/javascript": "parent.postMessage({\"jupyterEvent\": \"custom.exercise_interaction\", \"data\": {\"interactionType\": 2, \"questionType\": 1, \"learnTutorialId\": 191, \"questionId\": \"1_LoadCancerData\", \"learnToolsVersion\": \"0.3.1\", \"valueTowardsCompletion\": 0.0, \"failureMessage\": \"\", \"exceptionClass\": \"\", \"trace\": \"\", \"outcomeType\": 4}}, \"*\")"
                    },
                    "metadata": {}
                },
                {
                    "output_type": "display_data",
                    "data": {
                        "text/plain": "Hint: Use `pd.read_csv`, and follow it with **two** pieces of text that are enclosed in parentheses and separated by commas.  (1) The filepath for the dataset is provided in either `cancer_b_filepath` or `cancer_m_filepath`.  (2) Use the `\"Id\"` column to label the rows.",
                        "text/markdown": "<span style=\"color:#3366cc\">Hint:</span> Use `pd.read_csv`, and follow it with **two** pieces of text that are enclosed in parentheses and separated by commas.  (1) The filepath for the dataset is provided in either `cancer_b_filepath` or `cancer_m_filepath`.  (2) Use the `\"Id\"` column to label the rows."
                    },
                    "metadata": {}
                },
                {
                    "output_type": "display_data",
                    "data": {
                        "text/plain": "<IPython.core.display.Javascript object>",
                        "application/javascript": "parent.postMessage({\"jupyterEvent\": \"custom.exercise_interaction\", \"data\": {\"interactionType\": 3, \"questionType\": 1, \"learnTutorialId\": 191, \"questionId\": \"1_LoadCancerData\", \"learnToolsVersion\": \"0.3.1\", \"valueTowardsCompletion\": 0.0, \"failureMessage\": \"\", \"exceptionClass\": \"\", \"trace\": \"\", \"outcomeType\": 4}}, \"*\")"
                    },
                    "metadata": {}
                },
                {
                    "output_type": "display_data",
                    "data": {
                        "text/plain": "Solution: \n```python\n\ncancer_b_data = pd.read_csv(cancer_b_filepath, index_col=\"Id\")\ncancer_m_data = pd.read_csv(cancer_m_filepath, index_col=\"Id\")\n\n```",
                        "text/markdown": "<span style=\"color:#33cc99\">Solution:</span> \n```python\n\ncancer_b_data = pd.read_csv(cancer_b_filepath, index_col=\"Id\")\ncancer_m_data = pd.read_csv(cancer_m_filepath, index_col=\"Id\")\n\n```"
                    },
                    "metadata": {}
                }
            ]
        },
        {
            "metadata": {},
            "cell_type": "markdown",
            "source": "## Step 2: Review the data\n\nUse a Python command to print the first 5 rows of the data for benign tumors."
        },
        {
            "metadata": {
                "trusted": true
            },
            "cell_type": "code",
            "source": "# Print the first five rows of the (benign) data\ncancer_b_data.head() # Your code here",
            "execution_count": 5,
            "outputs": [
                {
                    "output_type": "execute_result",
                    "execution_count": 5,
                    "data": {
                        "text/plain": "         Diagnosis  Radius (mean)  Texture (mean)  Perimeter (mean)  \\\nId                                                                    \n8510426          B         13.540           14.36             87.46   \n8510653          B         13.080           15.71             85.63   \n8510824          B          9.504           12.44             60.34   \n854941           B         13.030           18.42             82.61   \n85713702         B          8.196           16.84             51.71   \n\n          Area (mean)  Smoothness (mean)  Compactness (mean)  \\\nId                                                             \n8510426         566.3            0.09779             0.08129   \n8510653         520.0            0.10750             0.12700   \n8510824         273.9            0.10240             0.06492   \n854941          523.8            0.08983             0.03766   \n85713702        201.9            0.08600             0.05943   \n\n          Concavity (mean)  Concave points (mean)  Symmetry (mean)  ...  \\\nId                                                                  ...   \n8510426            0.06664               0.047810           0.1885  ...   \n8510653            0.04568               0.031100           0.1967  ...   \n8510824            0.02956               0.020760           0.1815  ...   \n854941             0.02562               0.029230           0.1467  ...   \n85713702           0.01588               0.005917           0.1769  ...   \n\n          Radius (worst)  Texture (worst)  Perimeter (worst)  Area (worst)  \\\nId                                                                           \n8510426           15.110            19.26              99.70         711.2   \n8510653           14.500            20.49              96.09         630.5   \n8510824           10.230            15.66              65.13         314.9   \n854941            13.300            22.81              84.46         545.9   \n85713702           8.964            21.96              57.26         242.2   \n\n          Smoothness (worst)  Compactness (worst)  Concavity (worst)  \\\nId                                                                     \n8510426              0.14400              0.17730            0.23900   \n8510653              0.13120              0.27760            0.18900   \n8510824              0.13240              0.11480            0.08867   \n854941               0.09701              0.04619            0.04833   \n85713702             0.12970              0.13570            0.06880   \n\n          Concave points (worst)  Symmetry (worst)  Fractal dimension (worst)  \nId                                                                             \n8510426                  0.12880            0.2977                    0.07259  \n8510653                  0.07283            0.3184                    0.08183  \n8510824                  0.06227            0.2450                    0.07773  \n854941                   0.05013            0.1987                    0.06169  \n85713702                 0.02564            0.3105                    0.07409  \n\n[5 rows x 31 columns]",
                        "text/html": "<div>\n<style scoped>\n    .dataframe tbody tr th:only-of-type {\n        vertical-align: middle;\n    }\n\n    .dataframe tbody tr th {\n        vertical-align: top;\n    }\n\n    .dataframe thead th {\n        text-align: right;\n    }\n</style>\n<table border=\"1\" class=\"dataframe\">\n  <thead>\n    <tr style=\"text-align: right;\">\n      <th></th>\n      <th>Diagnosis</th>\n      <th>Radius (mean)</th>\n      <th>Texture (mean)</th>\n      <th>Perimeter (mean)</th>\n      <th>Area (mean)</th>\n      <th>Smoothness (mean)</th>\n      <th>Compactness (mean)</th>\n      <th>Concavity (mean)</th>\n      <th>Concave points (mean)</th>\n      <th>Symmetry (mean)</th>\n      <th>...</th>\n      <th>Radius (worst)</th>\n      <th>Texture (worst)</th>\n      <th>Perimeter (worst)</th>\n      <th>Area (worst)</th>\n      <th>Smoothness (worst)</th>\n      <th>Compactness (worst)</th>\n      <th>Concavity (worst)</th>\n      <th>Concave points (worst)</th>\n      <th>Symmetry (worst)</th>\n      <th>Fractal dimension (worst)</th>\n    </tr>\n    <tr>\n      <th>Id</th>\n      <th></th>\n      <th></th>\n      <th></th>\n      <th></th>\n      <th></th>\n      <th></th>\n      <th></th>\n      <th></th>\n      <th></th>\n      <th></th>\n      <th></th>\n      <th></th>\n      <th></th>\n      <th></th>\n      <th></th>\n      <th></th>\n      <th></th>\n      <th></th>\n      <th></th>\n      <th></th>\n      <th></th>\n    </tr>\n  </thead>\n  <tbody>\n    <tr>\n      <th>8510426</th>\n      <td>B</td>\n      <td>13.540</td>\n      <td>14.36</td>\n      <td>87.46</td>\n      <td>566.3</td>\n      <td>0.09779</td>\n      <td>0.08129</td>\n      <td>0.06664</td>\n      <td>0.047810</td>\n      <td>0.1885</td>\n      <td>...</td>\n      <td>15.110</td>\n      <td>19.26</td>\n      <td>99.70</td>\n      <td>711.2</td>\n      <td>0.14400</td>\n      <td>0.17730</td>\n      <td>0.23900</td>\n      <td>0.12880</td>\n      <td>0.2977</td>\n      <td>0.07259</td>\n    </tr>\n    <tr>\n      <th>8510653</th>\n      <td>B</td>\n      <td>13.080</td>\n      <td>15.71</td>\n      <td>85.63</td>\n      <td>520.0</td>\n      <td>0.10750</td>\n      <td>0.12700</td>\n      <td>0.04568</td>\n      <td>0.031100</td>\n      <td>0.1967</td>\n      <td>...</td>\n      <td>14.500</td>\n      <td>20.49</td>\n      <td>96.09</td>\n      <td>630.5</td>\n      <td>0.13120</td>\n      <td>0.27760</td>\n      <td>0.18900</td>\n      <td>0.07283</td>\n      <td>0.3184</td>\n      <td>0.08183</td>\n    </tr>\n    <tr>\n      <th>8510824</th>\n      <td>B</td>\n      <td>9.504</td>\n      <td>12.44</td>\n      <td>60.34</td>\n      <td>273.9</td>\n      <td>0.10240</td>\n      <td>0.06492</td>\n      <td>0.02956</td>\n      <td>0.020760</td>\n      <td>0.1815</td>\n      <td>...</td>\n      <td>10.230</td>\n      <td>15.66</td>\n      <td>65.13</td>\n      <td>314.9</td>\n      <td>0.13240</td>\n      <td>0.11480</td>\n      <td>0.08867</td>\n      <td>0.06227</td>\n      <td>0.2450</td>\n      <td>0.07773</td>\n    </tr>\n    <tr>\n      <th>854941</th>\n      <td>B</td>\n      <td>13.030</td>\n      <td>18.42</td>\n      <td>82.61</td>\n      <td>523.8</td>\n      <td>0.08983</td>\n      <td>0.03766</td>\n      <td>0.02562</td>\n      <td>0.029230</td>\n      <td>0.1467</td>\n      <td>...</td>\n      <td>13.300</td>\n      <td>22.81</td>\n      <td>84.46</td>\n      <td>545.9</td>\n      <td>0.09701</td>\n      <td>0.04619</td>\n      <td>0.04833</td>\n      <td>0.05013</td>\n      <td>0.1987</td>\n      <td>0.06169</td>\n    </tr>\n    <tr>\n      <th>85713702</th>\n      <td>B</td>\n      <td>8.196</td>\n      <td>16.84</td>\n      <td>51.71</td>\n      <td>201.9</td>\n      <td>0.08600</td>\n      <td>0.05943</td>\n      <td>0.01588</td>\n      <td>0.005917</td>\n      <td>0.1769</td>\n      <td>...</td>\n      <td>8.964</td>\n      <td>21.96</td>\n      <td>57.26</td>\n      <td>242.2</td>\n      <td>0.12970</td>\n      <td>0.13570</td>\n      <td>0.06880</td>\n      <td>0.02564</td>\n      <td>0.3105</td>\n      <td>0.07409</td>\n    </tr>\n  </tbody>\n</table>\n<p>5 rows × 31 columns</p>\n</div>"
                    },
                    "metadata": {}
                }
            ]
        },
        {
            "metadata": {},
            "cell_type": "markdown",
            "source": "Use a Python command to print the first 5 rows of the data for malignant tumors."
        },
        {
            "metadata": {
                "trusted": true
            },
            "cell_type": "code",
            "source": "# Print the first five rows of the (malignant) data\ncancer_m_data.head() # Your code here",
            "execution_count": 6,
            "outputs": [
                {
                    "output_type": "execute_result",
                    "execution_count": 6,
                    "data": {
                        "text/plain": "         Diagnosis  Radius (mean)  Texture (mean)  Perimeter (mean)  \\\nId                                                                    \n842302           M          17.99           10.38            122.80   \n842517           M          20.57           17.77            132.90   \n84300903         M          19.69           21.25            130.00   \n84348301         M          11.42           20.38             77.58   \n84358402         M          20.29           14.34            135.10   \n\n          Area (mean)  Smoothness (mean)  Compactness (mean)  \\\nId                                                             \n842302         1001.0            0.11840             0.27760   \n842517         1326.0            0.08474             0.07864   \n84300903       1203.0            0.10960             0.15990   \n84348301        386.1            0.14250             0.28390   \n84358402       1297.0            0.10030             0.13280   \n\n          Concavity (mean)  Concave points (mean)  Symmetry (mean)  ...  \\\nId                                                                  ...   \n842302              0.3001                0.14710           0.2419  ...   \n842517              0.0869                0.07017           0.1812  ...   \n84300903            0.1974                0.12790           0.2069  ...   \n84348301            0.2414                0.10520           0.2597  ...   \n84358402            0.1980                0.10430           0.1809  ...   \n\n          Radius (worst)  Texture (worst)  Perimeter (worst)  Area (worst)  \\\nId                                                                           \n842302             25.38            17.33             184.60        2019.0   \n842517             24.99            23.41             158.80        1956.0   \n84300903           23.57            25.53             152.50        1709.0   \n84348301           14.91            26.50              98.87         567.7   \n84358402           22.54            16.67             152.20        1575.0   \n\n          Smoothness (worst)  Compactness (worst)  Concavity (worst)  \\\nId                                                                     \n842302                0.1622               0.6656             0.7119   \n842517                0.1238               0.1866             0.2416   \n84300903              0.1444               0.4245             0.4504   \n84348301              0.2098               0.8663             0.6869   \n84358402              0.1374               0.2050             0.4000   \n\n          Concave points (worst)  Symmetry (worst)  Fractal dimension (worst)  \nId                                                                             \n842302                    0.2654            0.4601                    0.11890  \n842517                    0.1860            0.2750                    0.08902  \n84300903                  0.2430            0.3613                    0.08758  \n84348301                  0.2575            0.6638                    0.17300  \n84358402                  0.1625            0.2364                    0.07678  \n\n[5 rows x 31 columns]",
                        "text/html": "<div>\n<style scoped>\n    .dataframe tbody tr th:only-of-type {\n        vertical-align: middle;\n    }\n\n    .dataframe tbody tr th {\n        vertical-align: top;\n    }\n\n    .dataframe thead th {\n        text-align: right;\n    }\n</style>\n<table border=\"1\" class=\"dataframe\">\n  <thead>\n    <tr style=\"text-align: right;\">\n      <th></th>\n      <th>Diagnosis</th>\n      <th>Radius (mean)</th>\n      <th>Texture (mean)</th>\n      <th>Perimeter (mean)</th>\n      <th>Area (mean)</th>\n      <th>Smoothness (mean)</th>\n      <th>Compactness (mean)</th>\n      <th>Concavity (mean)</th>\n      <th>Concave points (mean)</th>\n      <th>Symmetry (mean)</th>\n      <th>...</th>\n      <th>Radius (worst)</th>\n      <th>Texture (worst)</th>\n      <th>Perimeter (worst)</th>\n      <th>Area (worst)</th>\n      <th>Smoothness (worst)</th>\n      <th>Compactness (worst)</th>\n      <th>Concavity (worst)</th>\n      <th>Concave points (worst)</th>\n      <th>Symmetry (worst)</th>\n      <th>Fractal dimension (worst)</th>\n    </tr>\n    <tr>\n      <th>Id</th>\n      <th></th>\n      <th></th>\n      <th></th>\n      <th></th>\n      <th></th>\n      <th></th>\n      <th></th>\n      <th></th>\n      <th></th>\n      <th></th>\n      <th></th>\n      <th></th>\n      <th></th>\n      <th></th>\n      <th></th>\n      <th></th>\n      <th></th>\n      <th></th>\n      <th></th>\n      <th></th>\n      <th></th>\n    </tr>\n  </thead>\n  <tbody>\n    <tr>\n      <th>842302</th>\n      <td>M</td>\n      <td>17.99</td>\n      <td>10.38</td>\n      <td>122.80</td>\n      <td>1001.0</td>\n      <td>0.11840</td>\n      <td>0.27760</td>\n      <td>0.3001</td>\n      <td>0.14710</td>\n      <td>0.2419</td>\n      <td>...</td>\n      <td>25.38</td>\n      <td>17.33</td>\n      <td>184.60</td>\n      <td>2019.0</td>\n      <td>0.1622</td>\n      <td>0.6656</td>\n      <td>0.7119</td>\n      <td>0.2654</td>\n      <td>0.4601</td>\n      <td>0.11890</td>\n    </tr>\n    <tr>\n      <th>842517</th>\n      <td>M</td>\n      <td>20.57</td>\n      <td>17.77</td>\n      <td>132.90</td>\n      <td>1326.0</td>\n      <td>0.08474</td>\n      <td>0.07864</td>\n      <td>0.0869</td>\n      <td>0.07017</td>\n      <td>0.1812</td>\n      <td>...</td>\n      <td>24.99</td>\n      <td>23.41</td>\n      <td>158.80</td>\n      <td>1956.0</td>\n      <td>0.1238</td>\n      <td>0.1866</td>\n      <td>0.2416</td>\n      <td>0.1860</td>\n      <td>0.2750</td>\n      <td>0.08902</td>\n    </tr>\n    <tr>\n      <th>84300903</th>\n      <td>M</td>\n      <td>19.69</td>\n      <td>21.25</td>\n      <td>130.00</td>\n      <td>1203.0</td>\n      <td>0.10960</td>\n      <td>0.15990</td>\n      <td>0.1974</td>\n      <td>0.12790</td>\n      <td>0.2069</td>\n      <td>...</td>\n      <td>23.57</td>\n      <td>25.53</td>\n      <td>152.50</td>\n      <td>1709.0</td>\n      <td>0.1444</td>\n      <td>0.4245</td>\n      <td>0.4504</td>\n      <td>0.2430</td>\n      <td>0.3613</td>\n      <td>0.08758</td>\n    </tr>\n    <tr>\n      <th>84348301</th>\n      <td>M</td>\n      <td>11.42</td>\n      <td>20.38</td>\n      <td>77.58</td>\n      <td>386.1</td>\n      <td>0.14250</td>\n      <td>0.28390</td>\n      <td>0.2414</td>\n      <td>0.10520</td>\n      <td>0.2597</td>\n      <td>...</td>\n      <td>14.91</td>\n      <td>26.50</td>\n      <td>98.87</td>\n      <td>567.7</td>\n      <td>0.2098</td>\n      <td>0.8663</td>\n      <td>0.6869</td>\n      <td>0.2575</td>\n      <td>0.6638</td>\n      <td>0.17300</td>\n    </tr>\n    <tr>\n      <th>84358402</th>\n      <td>M</td>\n      <td>20.29</td>\n      <td>14.34</td>\n      <td>135.10</td>\n      <td>1297.0</td>\n      <td>0.10030</td>\n      <td>0.13280</td>\n      <td>0.1980</td>\n      <td>0.10430</td>\n      <td>0.1809</td>\n      <td>...</td>\n      <td>22.54</td>\n      <td>16.67</td>\n      <td>152.20</td>\n      <td>1575.0</td>\n      <td>0.1374</td>\n      <td>0.2050</td>\n      <td>0.4000</td>\n      <td>0.1625</td>\n      <td>0.2364</td>\n      <td>0.07678</td>\n    </tr>\n  </tbody>\n</table>\n<p>5 rows × 31 columns</p>\n</div>"
                    },
                    "metadata": {}
                }
            ]
        },
        {
            "metadata": {},
            "cell_type": "markdown",
            "source": "In the datasets, each row corresponds to a different image.  Each dataset has 31 different columns, corresponding to:\n- 1 column (`'Diagnosis'`) that classifies tumors as either benign (which appears in the dataset as **`B`**) or malignant (__`M`__), and\n- 30 columns containing different measurements collected from the images.\n\nUse the first 5 rows of the data (for benign and malignant tumors) to answer the questions below."
        },
        {
            "metadata": {
                "trusted": true
            },
            "cell_type": "code",
            "source": "# Fill in the line below: In the first five rows of the data for benign tumors, what is the\n# largest value for 'Perimeter (mean)'?\nmax_perim = 87.46\n\n# Fill in the line below: What is the value for 'Radius (mean)' for the tumor with Id 842517?\nmean_radius = 20.57\n\n# Check your answers\nstep_2.check()",
            "execution_count": 7,
            "outputs": [
                {
                    "output_type": "display_data",
                    "data": {
                        "text/plain": "<IPython.core.display.Javascript object>",
                        "application/javascript": "parent.postMessage({\"jupyterEvent\": \"custom.exercise_interaction\", \"data\": {\"outcomeType\": 1, \"valueTowardsCompletion\": 0.5, \"interactionType\": 1, \"questionType\": 1, \"learnTutorialId\": 191, \"questionId\": \"2_ReviewData\", \"learnToolsVersion\": \"0.3.1\", \"failureMessage\": \"\", \"exceptionClass\": \"\", \"trace\": \"\"}}, \"*\")"
                    },
                    "metadata": {}
                },
                {
                    "output_type": "display_data",
                    "data": {
                        "text/plain": "Correct",
                        "text/markdown": "<span style=\"color:#33cc33\">Correct</span>"
                    },
                    "metadata": {}
                }
            ]
        },
        {
            "metadata": {
                "trusted": true
            },
            "cell_type": "code",
            "source": "# Lines below will give you a hint or solution code\nstep_2.hint()\nstep_2.solution()",
            "execution_count": 8,
            "outputs": [
                {
                    "output_type": "display_data",
                    "data": {
                        "text/plain": "<IPython.core.display.Javascript object>",
                        "application/javascript": "parent.postMessage({\"jupyterEvent\": \"custom.exercise_interaction\", \"data\": {\"interactionType\": 2, \"questionType\": 1, \"learnTutorialId\": 191, \"questionId\": \"2_ReviewData\", \"learnToolsVersion\": \"0.3.1\", \"valueTowardsCompletion\": 0.0, \"failureMessage\": \"\", \"exceptionClass\": \"\", \"trace\": \"\", \"outcomeType\": 4}}, \"*\")"
                    },
                    "metadata": {}
                },
                {
                    "output_type": "display_data",
                    "data": {
                        "text/plain": "Hint: Use the `head()` command to print the first 5 rows. **After printing the first 5 rows**, each row corresponds to a different tumor ID. The `'Perimeter (mean)'` column is the fourth column in the dataset. The `'Radius (mean)'` column is the second column.",
                        "text/markdown": "<span style=\"color:#3366cc\">Hint:</span> Use the `head()` command to print the first 5 rows. **After printing the first 5 rows**, each row corresponds to a different tumor ID. The `'Perimeter (mean)'` column is the fourth column in the dataset. The `'Radius (mean)'` column is the second column."
                    },
                    "metadata": {}
                },
                {
                    "output_type": "display_data",
                    "data": {
                        "text/plain": "<IPython.core.display.Javascript object>",
                        "application/javascript": "parent.postMessage({\"jupyterEvent\": \"custom.exercise_interaction\", \"data\": {\"interactionType\": 3, \"questionType\": 1, \"learnTutorialId\": 191, \"questionId\": \"2_ReviewData\", \"learnToolsVersion\": \"0.3.1\", \"valueTowardsCompletion\": 0.0, \"failureMessage\": \"\", \"exceptionClass\": \"\", \"trace\": \"\", \"outcomeType\": 4}}, \"*\")"
                    },
                    "metadata": {}
                },
                {
                    "output_type": "display_data",
                    "data": {
                        "text/plain": "Solution: \n```python\n# Print the first five rows of the (benign) data\ncancer_b_data.head()\n# Print the first five rows of the (malignant) data\ncancer_m_data.head()\n# In the first five rows of the data for benign tumors, what is the\n# largest value for 'Perimeter (mean)'?\nmax_perim = 87.46\n# What is the value for 'Radius (mean)' for the tumor with Id 842517?\nmean_radius = 20.57\n\n```",
                        "text/markdown": "<span style=\"color:#33cc99\">Solution:</span> \n```python\n# Print the first five rows of the (benign) data\ncancer_b_data.head()\n# Print the first five rows of the (malignant) data\ncancer_m_data.head()\n# In the first five rows of the data for benign tumors, what is the\n# largest value for 'Perimeter (mean)'?\nmax_perim = 87.46\n# What is the value for 'Radius (mean)' for the tumor with Id 842517?\nmean_radius = 20.57\n\n```"
                    },
                    "metadata": {}
                }
            ]
        },
        {
            "metadata": {},
            "cell_type": "markdown",
            "source": "## Step 3: Investigating differences"
        },
        {
            "metadata": {},
            "cell_type": "markdown",
            "source": "#### Part A\n\nUse the code cell below to create two histograms that show the distribution in values for `'Area (mean)'` for both benign and malignant tumors.  (_To permit easy comparison, create a single figure containing both histograms in the code cell below._)"
        },
        {
            "metadata": {
                "trusted": true
            },
            "cell_type": "code",
            "source": "# Histograms for benign and maligant tumors\nsns.distplot(a=cancer_b_data[\"Area (mean)\"], kde=False, label=\"benign tumors\") # Your code here (benign tumors)\nsns.distplot(a=cancer_m_data[\"Area (mean)\"], kde=False, label=\"malignant tumors\") # Your code here (malignant tumors)\nplt.legend()\nplt.title(\"Histogram of tumor distributions\")\n\n# Check your answer\nstep_3.a.check()",
            "execution_count": 9,
            "outputs": [
                {
                    "output_type": "display_data",
                    "data": {
                        "text/plain": "<IPython.core.display.Javascript object>",
                        "application/javascript": "parent.postMessage({\"jupyterEvent\": \"custom.exercise_interaction\", \"data\": {\"outcomeType\": 1, \"valueTowardsCompletion\": 0.5, \"interactionType\": 1, \"questionType\": 2, \"learnTutorialId\": 191, \"questionId\": \"3.1_PlotHist\", \"learnToolsVersion\": \"0.3.1\", \"failureMessage\": \"\", \"exceptionClass\": \"\", \"trace\": \"\"}}, \"*\")"
                    },
                    "metadata": {}
                },
                {
                    "output_type": "display_data",
                    "data": {
                        "text/plain": "Correct",
                        "text/markdown": "<span style=\"color:#33cc33\">Correct</span>"
                    },
                    "metadata": {}
                },
                {
                    "output_type": "display_data",
                    "data": {
                        "text/plain": "<Figure size 432x288 with 1 Axes>",
                        "image/png": "[encoded data removed]"
                    },
                    "metadata": {
                        "needs_background": "light"
                    }
                }
            ]
        },
        {
            "metadata": {
                "trusted": true
            },
            "cell_type": "code",
            "source": "# Lines below will give you a hint or solution code\nstep_3.a.hint()\nstep_3.a.solution_plot()",
            "execution_count": 10,
            "outputs": [
                {
                    "output_type": "display_data",
                    "data": {
                        "text/plain": "<IPython.core.display.Javascript object>",
                        "application/javascript": "parent.postMessage({\"jupyterEvent\": \"custom.exercise_interaction\", \"data\": {\"interactionType\": 2, \"questionType\": 2, \"learnTutorialId\": 191, \"questionId\": \"3.1_PlotHist\", \"learnToolsVersion\": \"0.3.1\", \"valueTowardsCompletion\": 0.0, \"failureMessage\": \"\", \"exceptionClass\": \"\", \"trace\": \"\", \"outcomeType\": 4}}, \"*\")"
                    },
                    "metadata": {}
                },
                {
                    "output_type": "display_data",
                    "data": {
                        "text/plain": "Hint: Use `sns.distplot`, and set the data and legend label by using `a=` and `label=`, respectively. Set `kde=False`. You will need to write two lines of code, corresponding to `cancer_m_data` and `cancer_b_data`.",
                        "text/markdown": "<span style=\"color:#3366cc\">Hint:</span> Use `sns.distplot`, and set the data and legend label by using `a=` and `label=`, respectively. Set `kde=False`. You will need to write two lines of code, corresponding to `cancer_m_data` and `cancer_b_data`."
                    },
                    "metadata": {}
                },
                {
                    "output_type": "display_data",
                    "data": {
                        "text/plain": "<IPython.core.display.Javascript object>",
                        "application/javascript": "parent.postMessage({\"jupyterEvent\": \"custom.exercise_interaction\", \"data\": {\"interactionType\": 3, \"questionType\": 2, \"learnTutorialId\": 191, \"questionId\": \"3.1_PlotHist\", \"learnToolsVersion\": \"0.3.1\", \"valueTowardsCompletion\": 0.0, \"failureMessage\": \"\", \"exceptionClass\": \"\", \"trace\": \"\", \"outcomeType\": 4}}, \"*\")"
                    },
                    "metadata": {}
                },
                {
                    "output_type": "display_data",
                    "data": {
                        "text/plain": "Solution: \n```python\n# Histograms for benign and maligant tumors\nsns.distplot(a=cancer_b_data['Area (mean)'], label=\"Benign\", kde=False)\nsns.distplot(a=cancer_m_data['Area (mean)'], label=\"Malignant\", kde=False)\nplt.legend()\n\n```",
                        "text/markdown": "<span style=\"color:#33cc99\">Solution:</span> \n```python\n# Histograms for benign and maligant tumors\nsns.distplot(a=cancer_b_data['Area (mean)'], label=\"Benign\", kde=False)\nsns.distplot(a=cancer_m_data['Area (mean)'], label=\"Malignant\", kde=False)\nplt.legend()\n\n```"
                    },
                    "metadata": {}
                },
                {
                    "output_type": "display_data",
                    "data": {
                        "text/plain": "<Figure size 432x288 with 1 Axes>",
                        "image/png": "[encoded data removed]"
                    },
                    "metadata": {
                        "needs_background": "light"
                    }
                }
            ]
        },
        {
            "metadata": {},
            "cell_type": "markdown",
            "source": "#### Part B\n\nA researcher approaches you for help with identifying how the `'Area (mean)'` column can be used to understand the difference between benign and malignant tumors.  Based on the histograms above, \n- Do malignant tumors have higher or lower values for `'Area (mean)'` (relative to benign tumors), on average?\n- Which tumor type seems to have a larger range of potential values?\n\n**My answer:** Malignant tumors have higher values for `'Area (mean)'`. Malignant tumors have a wider distribution than Benign."
        },
        {
            "metadata": {
                "trusted": true
            },
            "cell_type": "code",
            "source": "step_3.b.hint()",
            "execution_count": 11,
            "outputs": [
                {
                    "output_type": "display_data",
                    "data": {
                        "text/plain": "<IPython.core.display.Javascript object>",
                        "application/javascript": "parent.postMessage({\"jupyterEvent\": \"custom.exercise_interaction\", \"data\": {\"interactionType\": 2, \"questionType\": 4, \"learnTutorialId\": 191, \"questionId\": \"3.2_ThinkHist\", \"learnToolsVersion\": \"0.3.1\", \"valueTowardsCompletion\": 0.0, \"failureMessage\": \"\", \"exceptionClass\": \"\", \"trace\": \"\", \"outcomeType\": 4}}, \"*\")"
                    },
                    "metadata": {}
                },
                {
                    "output_type": "display_data",
                    "data": {
                        "text/plain": "Hint: Does the histogram for malignant tumors appear mostly to the left or to the right of the histogram for benign tumors?  Which histogram appears wider?",
                        "text/markdown": "<span style=\"color:#3366cc\">Hint:</span> Does the histogram for malignant tumors appear mostly to the left or to the right of the histogram for benign tumors?  Which histogram appears wider?"
                    },
                    "metadata": {}
                }
            ]
        },
        {
            "metadata": {
                "trusted": true
            },
            "cell_type": "code",
            "source": "step_3.b.solution()",
            "execution_count": 12,
            "outputs": [
                {
                    "output_type": "display_data",
                    "data": {
                        "text/plain": "<IPython.core.display.Javascript object>",
                        "application/javascript": "parent.postMessage({\"jupyterEvent\": \"custom.exercise_interaction\", \"data\": {\"interactionType\": 3, \"questionType\": 4, \"learnTutorialId\": 191, \"questionId\": \"3.2_ThinkHist\", \"learnToolsVersion\": \"0.3.1\", \"valueTowardsCompletion\": 0.0, \"failureMessage\": \"\", \"exceptionClass\": \"\", \"trace\": \"\", \"outcomeType\": 4}}, \"*\")"
                    },
                    "metadata": {}
                },
                {
                    "output_type": "display_data",
                    "data": {
                        "text/plain": "Solution: Malignant tumors have higher values for `'Area (mean)'`, on average. Malignant tumors have a larger range of potential values.",
                        "text/markdown": "<span style=\"color:#33cc99\">Solution:</span> Malignant tumors have higher values for `'Area (mean)'`, on average. Malignant tumors have a larger range of potential values."
                    },
                    "metadata": {}
                }
            ]
        },
        {
            "metadata": {},
            "cell_type": "markdown",
            "source": "## Step 4: A very useful column\n\n#### Part A\n\nUse the code cell below to create two KDE plots that show the distribution in values for `'Radius (worst)'` for both benign and malignant tumors.  (_To permit easy comparison, create a single figure containing both KDE plots in the code cell below._)"
        },
        {
            "metadata": {
                "trusted": true
            },
            "cell_type": "code",
            "source": "# KDE plots for benign and malignant tumors\nsns.kdeplot(data=cancer_b_data[\"Radius (worst)\"], shade=True, label=\"Benign\") # Your code here (benign tumors)\nsns.kdeplot(data=cancer_m_data[\"Radius (worst)\"], shade=True, label=\"Malignant\") # Your code here (malignant tumors)\nplt.xlabel(\"Radius (worst)\")\n\n# Check your answer\nstep_4.a.check()",
            "execution_count": 13,
            "outputs": [
                {
                    "output_type": "display_data",
                    "data": {
                        "text/plain": "<IPython.core.display.Javascript object>",
                        "application/javascript": "parent.postMessage({\"jupyterEvent\": \"custom.exercise_interaction\", \"data\": {\"outcomeType\": 1, \"valueTowardsCompletion\": 0.5, \"interactionType\": 1, \"questionType\": 2, \"learnTutorialId\": 191, \"questionId\": \"4.1_PlotThreshold\", \"learnToolsVersion\": \"0.3.1\", \"failureMessage\": \"\", \"exceptionClass\": \"\", \"trace\": \"\"}}, \"*\")"
                    },
                    "metadata": {}
                },
                {
                    "output_type": "display_data",
                    "data": {
                        "text/plain": "Correct",
                        "text/markdown": "<span style=\"color:#33cc33\">Correct</span>"
                    },
                    "metadata": {}
                },
                {
                    "output_type": "display_data",
                    "data": {
                        "text/plain": "<Figure size 432x288 with 1 Axes>",
                        "image/png": "[encoded data removed]"
                    },
                    "metadata": {
                        "needs_background": "light"
                    }
                }
            ]
        },
        {
            "metadata": {
                "trusted": true
            },
            "cell_type": "code",
            "source": "# Lines below will give you a hint or solution code\nstep_4.a.hint()\nstep_4.a.solution_plot()",
            "execution_count": 14,
            "outputs": [
                {
                    "output_type": "display_data",
                    "data": {
                        "text/plain": "<IPython.core.display.Javascript object>",
                        "application/javascript": "parent.postMessage({\"jupyterEvent\": \"custom.exercise_interaction\", \"data\": {\"interactionType\": 2, \"questionType\": 2, \"learnTutorialId\": 191, \"questionId\": \"4.1_PlotThreshold\", \"learnToolsVersion\": \"0.3.1\", \"valueTowardsCompletion\": 0.0, \"failureMessage\": \"\", \"exceptionClass\": \"\", \"trace\": \"\", \"outcomeType\": 4}}, \"*\")"
                    },
                    "metadata": {}
                },
                {
                    "output_type": "display_data",
                    "data": {
                        "text/plain": "Hint: Use `sns.kdeplot`, and specify the data and label by using `data=` and `label=`, respectively. You will need to write two lines of code, corresponding to `cancer_m_data` and `cancer_b_data`.",
                        "text/markdown": "<span style=\"color:#3366cc\">Hint:</span> Use `sns.kdeplot`, and specify the data and label by using `data=` and `label=`, respectively. You will need to write two lines of code, corresponding to `cancer_m_data` and `cancer_b_data`."
                    },
                    "metadata": {}
                },
                {
                    "output_type": "display_data",
                    "data": {
                        "text/plain": "<IPython.core.display.Javascript object>",
                        "application/javascript": "parent.postMessage({\"jupyterEvent\": \"custom.exercise_interaction\", \"data\": {\"interactionType\": 3, \"questionType\": 2, \"learnTutorialId\": 191, \"questionId\": \"4.1_PlotThreshold\", \"learnToolsVersion\": \"0.3.1\", \"valueTowardsCompletion\": 0.0, \"failureMessage\": \"\", \"exceptionClass\": \"\", \"trace\": \"\", \"outcomeType\": 4}}, \"*\")"
                    },
                    "metadata": {}
                },
                {
                    "output_type": "display_data",
                    "data": {
                        "text/plain": "Solution: \n```python\n# KDE plots for benign and malignant tumors\nsns.kdeplot(data=cancer_b_data['Radius (worst)'], shade=True, label=\"Benign\")\nsns.kdeplot(data=cancer_m_data['Radius (worst)'], shade=True, label=\"Malignant\")\n\n```",
                        "text/markdown": "<span style=\"color:#33cc99\">Solution:</span> \n```python\n# KDE plots for benign and malignant tumors\nsns.kdeplot(data=cancer_b_data['Radius (worst)'], shade=True, label=\"Benign\")\nsns.kdeplot(data=cancer_m_data['Radius (worst)'], shade=True, label=\"Malignant\")\n\n```"
                    },
                    "metadata": {}
                },
                {
                    "output_type": "display_data",
                    "data": {
                        "text/plain": "<Figure size 432x288 with 1 Axes>",
                        "image/png": "[encoded data removed]"
                    },
                    "metadata": {
                        "needs_background": "light"
                    }
                }
            ]
        },
        {
            "metadata": {},
            "cell_type": "markdown",
            "source": "#### Part B\n\nA hospital has recently started using an algorithm that can diagnose tumors with high accuracy.  Given a tumor with a value for `'Radius (worst)'` of 25, do you think the algorithm is more likely to classify the tumor as benign or malignant?\n\n**My answer:** The algorithm is more likely to classify the tumor as malignant. Given the distribution chart above, a tumor of 25 as radius is not under the benign curve. Thus, it is unlikely"
        },
        {
            "metadata": {
                "trusted": true
            },
            "cell_type": "code",
            "source": "step_4.b.hint()",
            "execution_count": 15,
            "outputs": [
                {
                    "output_type": "display_data",
                    "data": {
                        "text/plain": "<IPython.core.display.Javascript object>",
                        "application/javascript": "parent.postMessage({\"jupyterEvent\": \"custom.exercise_interaction\", \"data\": {\"interactionType\": 2, \"questionType\": 4, \"learnTutorialId\": 191, \"questionId\": \"4.2_ThinkThreshold\", \"learnToolsVersion\": \"0.3.1\", \"valueTowardsCompletion\": 0.0, \"failureMessage\": \"\", \"exceptionClass\": \"\", \"trace\": \"\", \"outcomeType\": 4}}, \"*\")"
                    },
                    "metadata": {}
                },
                {
                    "output_type": "display_data",
                    "data": {
                        "text/plain": "Hint: Take a look at the KDE plots, and use the legend to tell the difference between malignant and benign tumors.  Around a value of 25, which curve appears higher?",
                        "text/markdown": "<span style=\"color:#3366cc\">Hint:</span> Take a look at the KDE plots, and use the legend to tell the difference between malignant and benign tumors.  Around a value of 25, which curve appears higher?"
                    },
                    "metadata": {}
                }
            ]
        },
        {
            "metadata": {
                "trusted": true
            },
            "cell_type": "code",
            "source": "step_4.b.solution()",
            "execution_count": 16,
            "outputs": [
                {
                    "output_type": "display_data",
                    "data": {
                        "text/plain": "<IPython.core.display.Javascript object>",
                        "application/javascript": "parent.postMessage({\"jupyterEvent\": \"custom.exercise_interaction\", \"data\": {\"interactionType\": 3, \"questionType\": 4, \"learnTutorialId\": 191, \"questionId\": \"4.2_ThinkThreshold\", \"learnToolsVersion\": \"0.3.1\", \"valueTowardsCompletion\": 0.0, \"failureMessage\": \"\", \"exceptionClass\": \"\", \"trace\": \"\", \"outcomeType\": 4}}, \"*\")"
                    },
                    "metadata": {}
                },
                {
                    "output_type": "display_data",
                    "data": {
                        "text/plain": "Solution: The algorithm is more likely to classify the tumor as malignant. This is because the curve for malignant tumors is much higher than the curve for benign tumors around a value of 25 -- and an algorithm that gets high accuracy is likely to make decisions based on this pattern in the data.",
                        "text/markdown": "<span style=\"color:#33cc99\">Solution:</span> The algorithm is more likely to classify the tumor as malignant. This is because the curve for malignant tumors is much higher than the curve for benign tumors around a value of 25 -- and an algorithm that gets high accuracy is likely to make decisions based on this pattern in the data."
                    },
                    "metadata": {}
                }
            ]
        },
        {
            "metadata": {},
            "cell_type": "markdown",
            "source": "## Keep going\n\nReview all that you've learned and explore how to further customize your plots in the **[next tutorial](https://www.kaggle.com/alexisbcook/choosing-plot-types-and-custom-styles)**!"
        },
        {
            "metadata": {},
            "cell_type": "markdown",
            "source": "---\n**[Data Visualization: From Non-Coder to Coder Home Page](https://www.kaggle.com/learn/data-visualization-from-non-coder-to-coder)**\n\n\n\n\n\n*Have questions or comments? Visit the [Learn Discussion forum](https://www.kaggle.com/learn-forum) to chat with other Learners.*"
        }
    ],
    "metadata": {
        "kernelspec": {
            "display_name": "Python 3",
            "language": "python",
            "name": "python3"
        },
        "language_info": {
            "codemirror_mode": {
                "name": "ipython",
                "version": 3
            },
            "file_extension": ".py",
            "mimetype": "text/x-python",
            "name": "python",
            "nbconvert_exporter": "python",
            "pygments_lexer": "ipython3",
            "version": "3.6.5"
        }
    },
    "nbformat": 4,
    "nbformat_minor": 1
}