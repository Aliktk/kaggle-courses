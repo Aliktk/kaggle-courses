{
    "cells": [
        {
            "metadata": {},
            "cell_type": "markdown",
            "source": "**[SQL Course Home Page](https://www.kaggle.com/learn/SQL)**\n\n---\n"
        },
        {
            "metadata": {},
            "cell_type": "markdown",
            "source": "# Intro\n\nYou've built up your SQL skills enough that the remaining hands-on exercises will use different datasets than you see in the explanations. If you need to familiarize with a new dataset, you can run a couple of `SELECT` queries to extract and review the data you need. \n\nThe next exercises are also more challenging than what you've done so far. Don't worry, you are ready for it.\n\nRun the code in the following cell to get everything set up:"
        },
        {
            "metadata": {
                "trusted": true
            },
            "cell_type": "code",
            "source": "# Set up feedack system\nfrom learntools.core import binder\nbinder.bind(globals())\nfrom learntools.sql.ex4 import *\n\n# import package with helper functions \nimport bq_helper\n\n# create a helper object for this dataset\neducation_data = bq_helper.BigQueryHelper(active_project=\"bigquery-public-data\",\n                                          dataset_name=\"world_bank_intl_education\")",
            "execution_count": 1,
            "outputs": [
                {
                    "output_type": "stream",
                    "text": "Using Kaggle's public dataset BigQuery integration.\nUsing Kaggle's public dataset BigQuery integration.\n",
                    "name": "stdout"
                }
            ]
        },
        {
            "metadata": {},
            "cell_type": "markdown",
            "source": "Then write the code to answer the questions below"
        },
        {
            "metadata": {},
            "cell_type": "markdown",
            "source": "# Questions\n\n## 1) Which countries spend the largest fraction of GDP on education?\n\nThe World Bank has made tons of interesting education data available through BigQuery. Run the following cell to see the first few rows of the table."
        },
        {
            "metadata": {
                "trusted": true
            },
            "cell_type": "code",
            "source": "education_data.head('international_education')",
            "execution_count": 2,
            "outputs": [
                {
                    "output_type": "execute_result",
                    "execution_count": 2,
                    "data": {
                        "text/plain": "  country_name country_code  \\\n0   Uzbekistan          UZB   \n1   Uzbekistan          UZB   \n2   Uzbekistan          UZB   \n3   Uzbekistan          UZB   \n4         Oman          OMN   \n\n                                      indicator_name     indicator_code  \\\n0  Population of the official age for upper secon...     SP.SEC.UTOT.IN   \n1  Rate of out-of-school adolescents of lower sec...      UIS.ROFST.2.F   \n2     Teachers in primary education, female (number)     SE.PRM.TCHR.FE   \n3     Unemployment, female (% of female labor force)  SL.UEM.TOTL.FE.ZS   \n4                       Population growth (annual %)        SP.POP.GROW   \n\n          value  year  \n0  1.590291e+06  2016  \n1  3.249180e+00  2016  \n2  1.004560e+05  2016  \n3  8.600000e+00  2016  \n4  5.217721e+00  2016  ",
                        "text/html": "<div>\n<style scoped>\n    .dataframe tbody tr th:only-of-type {\n        vertical-align: middle;\n    }\n\n    .dataframe tbody tr th {\n        vertical-align: top;\n    }\n\n    .dataframe thead th {\n        text-align: right;\n    }\n</style>\n<table border=\"1\" class=\"dataframe\">\n  <thead>\n    <tr style=\"text-align: right;\">\n      <th></th>\n      <th>country_name</th>\n      <th>country_code</th>\n      <th>indicator_name</th>\n      <th>indicator_code</th>\n      <th>value</th>\n      <th>year</th>\n    </tr>\n  </thead>\n  <tbody>\n    <tr>\n      <td>0</td>\n      <td>Uzbekistan</td>\n      <td>UZB</td>\n      <td>Population of the official age for upper secon...</td>\n      <td>SP.SEC.UTOT.IN</td>\n      <td>1.590291e+06</td>\n      <td>2016</td>\n    </tr>\n    <tr>\n      <td>1</td>\n      <td>Uzbekistan</td>\n      <td>UZB</td>\n      <td>Rate of out-of-school adolescents of lower sec...</td>\n      <td>UIS.ROFST.2.F</td>\n      <td>3.249180e+00</td>\n      <td>2016</td>\n    </tr>\n    <tr>\n      <td>2</td>\n      <td>Uzbekistan</td>\n      <td>UZB</td>\n      <td>Teachers in primary education, female (number)</td>\n      <td>SE.PRM.TCHR.FE</td>\n      <td>1.004560e+05</td>\n      <td>2016</td>\n    </tr>\n    <tr>\n      <td>3</td>\n      <td>Uzbekistan</td>\n      <td>UZB</td>\n      <td>Unemployment, female (% of female labor force)</td>\n      <td>SL.UEM.TOTL.FE.ZS</td>\n      <td>8.600000e+00</td>\n      <td>2016</td>\n    </tr>\n    <tr>\n      <td>4</td>\n      <td>Oman</td>\n      <td>OMN</td>\n      <td>Population growth (annual %)</td>\n      <td>SP.POP.GROW</td>\n      <td>5.217721e+00</td>\n      <td>2016</td>\n    </tr>\n  </tbody>\n</table>\n</div>"
                    },
                    "metadata": {}
                }
            ]
        },
        {
            "metadata": {},
            "cell_type": "markdown",
            "source": "The indicator code describes what type of data is shown in a given row.  \n\nOne interesting indicator code is `SE.XPD.TOTL.GD.ZS`. The name says this is `Government expenditure on education as % of GDP (%)`.\n\nWrite a query to get a dataframe returning **average value of these rows for each country in the dataset between the years 2010-2017** (including 2010 and 2017 in the average). \n\nRequirements:\n- Your results should have the country name rather than the country code. You will have one row for each country\n- The aggregation for an average is **AVG**.  Use the name `avg_ed_spending_pct` for the column created by this aggregation\n- Order the results so the countries that spend the largest fraction of GDP on education show up first.\n\nIn case it's useful to see a sample query, here's a query you saw in the tutorial (using a different database):\n```\n# query to find how many accidents happen each day of the week\nquery = \"\"\"SELECT COUNT(consecutive_number) num_accidents, \n                  EXTRACT(DAYOFWEEK FROM timestamp_of_crash)\n            FROM `bigquery-public-data.nhtsa_traffic_fatalities.accident_2016`\n            GROUP BY EXTRACT(DAYOFWEEK FROM timestamp_of_crash)\n            ORDER BY COUNT(consecutive_number) DESC\n        \"\"\"\naccidents_by_day = accidents.query_to_pandas_safe(query)\n```"
        },
        {
            "metadata": {
                "trusted": true
            },
            "cell_type": "code",
            "source": "# Your Code Here\ncountry_spend_pct_query = \"\"\"\n  SELECT country_name, AVG(value) AS avg_ed_spending_pct\n    FROM `bigquery-public-data.world_bank_intl_education.international_education`\n    WHERE indicator_code = 'SE.XPD.TOTL.GD.ZS' \n      AND year BETWEEN 2010 AND 2017\n    GROUP BY country_name\n    ORDER BY avg_ed_spending_pct DESC\n\"\"\"\n\ncountry_spending_results = education_data.query_to_pandas_safe(country_spend_pct_query)\n\nprint(country_spending_results.head())\nq_1.check()",
            "execution_count": 3,
            "outputs": [
                {
                    "output_type": "stream",
                    "text": "            country_name  avg_ed_spending_pct\n0                   Cuba            12.837270\n1  Micronesia, Fed. Sts.            12.467750\n2        Solomon Islands            10.001080\n3                Moldova             8.372153\n4                Namibia             8.349610\n",
                    "name": "stdout"
                },
                {
                    "output_type": "display_data",
                    "data": {
                        "text/plain": "<IPython.core.display.Javascript object>",
                        "application/javascript": "parent.postMessage({\"jupyterEvent\": \"custom.exercise_interaction\", \"data\": {\"outcomeType\": 1, \"valueTowardsCompletion\": 0.5, \"interactionType\": 1, \"questionType\": 2, \"learnTutorialId\": 80, \"questionId\": \"1_EducationSpending\", \"learnToolsVersion\": \"0.3.2\", \"failureMessage\": \"\", \"exceptionClass\": \"\", \"trace\": \"\"}}, \"*\")"
                    },
                    "metadata": {}
                },
                {
                    "output_type": "display_data",
                    "data": {
                        "text/plain": "None"
                    },
                    "metadata": {}
                }
            ]
        },
        {
            "metadata": {
                "trusted": true
            },
            "cell_type": "code",
            "source": "# q_1.hint()\n# q_1.solution()",
            "execution_count": 4,
            "outputs": []
        },
        {
            "metadata": {},
            "cell_type": "markdown",
            "source": "## 2) Identifying Interesting Codes to Explore\nThe last question started by telling you to focus on rows with the code `SE.XPD.TOTL.GD.ZS`. But how would you find interesting indicator codes to explore?\n\nThere are 1000s of codes in the dataset, so it would time consuming to review them all. But many codes are available for only a few countries. When browsing the options for different codes, you might restrict yourself to codes that are reported by many countries.\n\nWrite the query below that selects the indicator code and indicator name for all codes with at least 175 rows in the year 2016.\n\nRequirements:\n- One row in your results per code\n- The columns in your results should be called `indicator_code`, `indicator_name` and `num_rows`.\n- Only select codes with 175 or more rows in the raw database (exactly 175 rows would be included)\n- To get both the `indicator_code` and `indicator_name` in your resulting DataFrame, you need to include both in your select statement (in addition to a `COUNT` aggregation). This in turn requires you include both in your `GROUP BY` clause.\n- Order from results most frequent to least frequent"
        },
        {
            "metadata": {
                "trusted": true
            },
            "cell_type": "code",
            "source": "# Your Code Here\ncode_count_query = \"\"\"\n    SELECT indicator_code, indicator_name, COUNT(1) AS num_rows\n      FROM `bigquery-public-data.world_bank_intl_education.international_education`\n      WHERE year = 2016\n      GROUP BY indicator_code, indicator_name\n      HAVING num_rows >= 175\n      ORDER BY num_rows DESC\n\"\"\"\n\ncode_count_results = education_data.query_to_pandas_safe(code_count_query)\n\nprint(code_count_results.head())\nq_2.check()",
            "execution_count": 5,
            "outputs": [
                {
                    "output_type": "stream",
                    "text": "   indicator_code                   indicator_name  num_rows\n0     SP.POP.GROW     Population growth (annual %)       232\n1     SP.POP.TOTL                Population, total       232\n2  IT.NET.USER.P2  Internet users (per 100 people)       223\n3  SP.POP.1564.TO    Population, ages 15-64, total       213\n4  SP.POP.0014.TO     Population, ages 0-14, total       213\n",
                    "name": "stdout"
                },
                {
                    "output_type": "display_data",
                    "data": {
                        "text/plain": "<IPython.core.display.Javascript object>",
                        "application/javascript": "parent.postMessage({\"jupyterEvent\": \"custom.exercise_interaction\", \"data\": {\"outcomeType\": 1, \"valueTowardsCompletion\": 0.5, \"interactionType\": 1, \"questionType\": 2, \"learnTutorialId\": 80, \"questionId\": \"2_FindInterestingCodes\", \"learnToolsVersion\": \"0.3.2\", \"failureMessage\": \"\", \"exceptionClass\": \"\", \"trace\": \"\"}}, \"*\")"
                    },
                    "metadata": {}
                },
                {
                    "output_type": "display_data",
                    "data": {
                        "text/plain": "None"
                    },
                    "metadata": {}
                }
            ]
        },
        {
            "metadata": {
                "trusted": true
            },
            "cell_type": "code",
            "source": "# q_2.hint()\n# q_2.solution()",
            "execution_count": 6,
            "outputs": []
        },
        {
            "metadata": {},
            "cell_type": "markdown",
            "source": "---\n# Keep Going\n**[Click here](https://www.kaggle.com/dansbecker/as-with)** to learn how *WITH-AS* clauses  can clean up your code and help you construct more complex queries.\n"
        },
        {
            "metadata": {},
            "cell_type": "markdown",
            "source": "---\n**[SQL Course Home Page](https://www.kaggle.com/learn/SQL)**\n\n"
        }
    ],
    "metadata": {
        "kernelspec": {
            "display_name": "Python 3",
            "language": "python",
            "name": "python3"
        },
        "language_info": {
            "codemirror_mode": {
                "name": "ipython",
                "version": 3
            },
            "file_extension": ".py",
            "mimetype": "text/x-python",
            "name": "python",
            "nbconvert_exporter": "python",
            "pygments_lexer": "ipython3",
            "version": "3.6.5"
        }
    },
    "nbformat": 4,
    "nbformat_minor": 1
}