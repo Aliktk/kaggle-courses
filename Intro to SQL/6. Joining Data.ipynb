{
  "cells": [
    {
      "metadata": {},
      "cell_type": "markdown",
      "source": "**[SQL Course Home Page](https://www.kaggle.com/learn/SQL)**\n\n---\n"
    },
    {
      "metadata": {},
      "cell_type": "markdown",
      "source": "# Intro\n\nStack Overflow (stackoverflow.com) is a widely beloved Question and Answer site for technical questions. You'll probably use it yourself as you keep using SQL (or any programming language). \n\nTheir data is publicly available. What cool things do you think it would be useful for?\n\nHere's one idea:\nYou could set up a service that identifies the Stack Overflow users who have demonstrated expertise with a specific technology by answering related questions about it, so someone could hire those experts for in-depth help.\n\nIn this exercise, you'll write the SQL queries that might serve as the foundation for this type of service.\n\nAs usual, run the following cell to set up our feedback system before moving on."
    },
    {
      "metadata": {
        "trusted": true
      },
      "cell_type": "code",
      "source": "# Set up feedack system\nfrom learntools.core import binder\nbinder.bind(globals())\nfrom learntools.sql.ex6 import *\n\n# import package with helper functions \nimport bq_helper\n\n# create a helper object for this dataset\nstack_overflow = bq_helper.BigQueryHelper(active_project=\"bigquery-public-data\",\n                                              dataset_name=\"stackoverflow\")",
      "execution_count": 1,
      "outputs": [
        {
          "output_type": "stream",
          "text": "Using Kaggle's public dataset BigQuery integration.\nUsing Kaggle's public dataset BigQuery integration.\n",
          "name": "stdout"
        }
      ]
    },
    {
      "metadata": {},
      "cell_type": "markdown",
      "source": "# Questions\n\n# 1) Explore the Data\n\nBefore writing queries or **JOIN** clauses, you'll want to see what tables are available. \n\nThis may be a good time to practice **tab completion** for when you don't remember command names. If you type `stack_overflow.` and then hit tab, you will see a list of methods for the `stack_overflow` object (don't forget the dot before hitting tab.)"
    },
    {
      "metadata": {
        "trusted": true
      },
      "cell_type": "code",
      "source": "# Your code here\nlist_of_tables = stack_overflow.list_tables()    # get a list of available tables\n\nprint(list_of_tables)\nq_1.check()",
      "execution_count": 2,
      "outputs": [
        {
          "output_type": "stream",
          "text": "['badges', 'comments', 'post_history', 'post_links', 'posts_answers', 'posts_moderator_nomination', 'posts_orphaned_tag_wiki', 'posts_privilege_wiki', 'posts_questions', 'posts_tag_wiki', 'posts_tag_wiki_excerpt', 'posts_wiki_placeholder', 'stackoverflow_posts', 'tags', 'users', 'votes']\n",
          "name": "stdout"
        },
        {
          "output_type": "display_data",
          "data": {
            "text/plain": "<IPython.core.display.Javascript object>",
            "application/javascript": "parent.postMessage({\"jupyterEvent\": \"custom.exercise_interaction\", \"data\": {\"outcomeType\": 1, \"valueTowardsCompletion\": 0.25, \"interactionType\": 1, \"questionType\": 1, \"learnTutorialId\": 82, \"questionId\": \"1_ListSOTables\", \"learnToolsVersion\": \"0.3.2\", \"failureMessage\": \"\", \"exceptionClass\": \"\", \"trace\": \"\"}}, \"*\")"
          },
          "metadata": {}
        },
        {
          "output_type": "display_data",
          "data": {
            "text/plain": "None"
          },
          "metadata": {}
        }
      ]
    },
    {
      "metadata": {
        "trusted": true
      },
      "cell_type": "code",
      "source": "# q_1.solution()",
      "execution_count": 3,
      "outputs": []
    },
    {
      "metadata": {},
      "cell_type": "markdown",
      "source": "# 2) Review Relevant Tables\n\nIf you are interested in people who answer questions on a given topic, the `posts_answers` table is a natural place to look. Run the following cell and look at the output"
    },
    {
      "metadata": {
        "trusted": true
      },
      "cell_type": "code",
      "source": "stack_overflow.head('posts_answers')",
      "execution_count": 4,
      "outputs": [
        {
          "output_type": "execute_result",
          "execution_count": 4,
          "data": {
            "text/plain": "         id title                                               body  \\\n0  55832858  None  <p>There may be privacy description <em>(for S...   \n1  55832872  None  <p>How do I set the name of the button to the ...   \n2  55832876  None  <pre><code>go test -v -timeout 30s &lt;path_to...   \n3  55832878  None  <p>I suggest you create one custom pin represe...   \n4  55832879  None  <p>You have to use <a href=\"https://en.cpprefe...   \n\n  accepted_answer_id answer_count  comment_count community_owned_date  \\\n0               None         None              0                 None   \n1               None         None              3                 None   \n2               None         None              0                 None   \n3               None         None              0                 None   \n4               None         None              2                 None   \n\n                     creation_date favorite_count  \\\n0 2019-04-24 14:45:59.090000+00:00           None   \n1 2019-04-24 14:46:52.690000+00:00           None   \n2 2019-04-24 14:47:09.227000+00:00           None   \n3 2019-04-24 14:47:10.297000+00:00           None   \n4 2019-04-24 14:47:16.853000+00:00           None   \n\n                last_activity_date last_edit_date last_editor_display_name  \\\n0 2019-04-24 14:45:59.090000+00:00           None                     None   \n1 2019-04-24 14:46:52.690000+00:00           None                     None   \n2 2019-04-24 14:47:09.227000+00:00           None                     None   \n3 2019-04-24 14:47:10.297000+00:00           None                     None   \n4 2019-04-24 14:47:16.853000+00:00           None                     None   \n\n  last_editor_user_id owner_display_name  owner_user_id  parent_id  \\\n0                None               None        7266317    6004032   \n1                None               None        5873109   55832746   \n2                None               None        5713047   16935965   \n3                None               None        6001090   33622927   \n4                None               None       10765031   55831782   \n\n   post_type_id  score  tags view_count  \n0             2      0  None       None  \n1             2      0  None       None  \n2             2      0  None       None  \n3             2      0  None       None  \n4             2      0  None       None  ",
            "text/html": "<div>\n<style scoped>\n    .dataframe tbody tr th:only-of-type {\n        vertical-align: middle;\n    }\n\n    .dataframe tbody tr th {\n        vertical-align: top;\n    }\n\n    .dataframe thead th {\n        text-align: right;\n    }\n</style>\n<table border=\"1\" class=\"dataframe\">\n  <thead>\n    <tr style=\"text-align: right;\">\n      <th></th>\n      <th>id</th>\n      <th>title</th>\n      <th>body</th>\n      <th>accepted_answer_id</th>\n      <th>answer_count</th>\n      <th>comment_count</th>\n      <th>community_owned_date</th>\n      <th>creation_date</th>\n      <th>favorite_count</th>\n      <th>last_activity_date</th>\n      <th>last_edit_date</th>\n      <th>last_editor_display_name</th>\n      <th>last_editor_user_id</th>\n      <th>owner_display_name</th>\n      <th>owner_user_id</th>\n      <th>parent_id</th>\n      <th>post_type_id</th>\n      <th>score</th>\n      <th>tags</th>\n      <th>view_count</th>\n    </tr>\n  </thead>\n  <tbody>\n    <tr>\n      <td>0</td>\n      <td>55832858</td>\n      <td>None</td>\n      <td>&lt;p&gt;There may be privacy description &lt;em&gt;(for S...</td>\n      <td>None</td>\n      <td>None</td>\n      <td>0</td>\n      <td>None</td>\n      <td>2019-04-24 14:45:59.090000+00:00</td>\n      <td>None</td>\n      <td>2019-04-24 14:45:59.090000+00:00</td>\n      <td>None</td>\n      <td>None</td>\n      <td>None</td>\n      <td>None</td>\n      <td>7266317</td>\n      <td>6004032</td>\n      <td>2</td>\n      <td>0</td>\n      <td>None</td>\n      <td>None</td>\n    </tr>\n    <tr>\n      <td>1</td>\n      <td>55832872</td>\n      <td>None</td>\n      <td>&lt;p&gt;How do I set the name of the button to the ...</td>\n      <td>None</td>\n      <td>None</td>\n      <td>3</td>\n      <td>None</td>\n      <td>2019-04-24 14:46:52.690000+00:00</td>\n      <td>None</td>\n      <td>2019-04-24 14:46:52.690000+00:00</td>\n      <td>None</td>\n      <td>None</td>\n      <td>None</td>\n      <td>None</td>\n      <td>5873109</td>\n      <td>55832746</td>\n      <td>2</td>\n      <td>0</td>\n      <td>None</td>\n      <td>None</td>\n    </tr>\n    <tr>\n      <td>2</td>\n      <td>55832876</td>\n      <td>None</td>\n      <td>&lt;pre&gt;&lt;code&gt;go test -v -timeout 30s &amp;lt;path_to...</td>\n      <td>None</td>\n      <td>None</td>\n      <td>0</td>\n      <td>None</td>\n      <td>2019-04-24 14:47:09.227000+00:00</td>\n      <td>None</td>\n      <td>2019-04-24 14:47:09.227000+00:00</td>\n      <td>None</td>\n      <td>None</td>\n      <td>None</td>\n      <td>None</td>\n      <td>5713047</td>\n      <td>16935965</td>\n      <td>2</td>\n      <td>0</td>\n      <td>None</td>\n      <td>None</td>\n    </tr>\n    <tr>\n      <td>3</td>\n      <td>55832878</td>\n      <td>None</td>\n      <td>&lt;p&gt;I suggest you create one custom pin represe...</td>\n      <td>None</td>\n      <td>None</td>\n      <td>0</td>\n      <td>None</td>\n      <td>2019-04-24 14:47:10.297000+00:00</td>\n      <td>None</td>\n      <td>2019-04-24 14:47:10.297000+00:00</td>\n      <td>None</td>\n      <td>None</td>\n      <td>None</td>\n      <td>None</td>\n      <td>6001090</td>\n      <td>33622927</td>\n      <td>2</td>\n      <td>0</td>\n      <td>None</td>\n      <td>None</td>\n    </tr>\n    <tr>\n      <td>4</td>\n      <td>55832879</td>\n      <td>None</td>\n      <td>&lt;p&gt;You have to use &lt;a href=\"https://en.cpprefe...</td>\n      <td>None</td>\n      <td>None</td>\n      <td>2</td>\n      <td>None</td>\n      <td>2019-04-24 14:47:16.853000+00:00</td>\n      <td>None</td>\n      <td>2019-04-24 14:47:16.853000+00:00</td>\n      <td>None</td>\n      <td>None</td>\n      <td>None</td>\n      <td>None</td>\n      <td>10765031</td>\n      <td>55831782</td>\n      <td>2</td>\n      <td>0</td>\n      <td>None</td>\n      <td>None</td>\n    </tr>\n  </tbody>\n</table>\n</div>"
          },
          "metadata": {}
        }
      ]
    },
    {
      "metadata": {},
      "cell_type": "markdown",
      "source": "It isn't clear yet how to the find users who answered questions on any given topic. But `posts_answers` has a `parent_id` column. If you are familiar with the Stack Overflow site, you might figure out that the `parent_id` is the question each post is answering.\n\nLook at `posts_questions` using the line below."
    },
    {
      "metadata": {
        "trusted": true
      },
      "cell_type": "code",
      "source": "stack_overflow.head('posts_questions')",
      "execution_count": 5,
      "outputs": [
        {
          "output_type": "execute_result",
          "execution_count": 5,
          "data": {
            "text/plain": "         id                                              title  \\\n0  56412356  S3 Multipart upload with pause and resume func...   \n1  56318079                           Angular Nginx Docker 404   \n2  56136152               Switch structure control for OSC msg   \n3  56207713            AWS QuickSight - Smooth line graph/plot   \n4  56250259  I am not able to access kubernetes dash-board ...   \n\n                                                body accepted_answer_id  \\\n0  <p>I am trying to acheive s3 multipart upload ...               None   \n1  <p>Been driving myself nuts trying to figure t...               None   \n2  <p>I’m new to SC and the whole music programmi...               None   \n3  <p>do you know if ''''AWS QuickSight'''' has a...               None   \n4  <p>I have installed docker and kubernetes in m...               None   \n\n   answer_count  comment_count community_owned_date  \\\n0             0              0                 None   \n1             1              0                 None   \n2             0              0                 None   \n3             0              0                 None   \n4             0              0                 None   \n\n                     creation_date favorite_count  \\\n0 2019-06-02 05:09:24.723000+00:00           None   \n1 2019-05-26 23:14:43.403000+00:00           None   \n2 2019-05-14 18:05:32.077000+00:00           None   \n3 2019-05-19 12:15:57.697000+00:00           None   \n4 2019-05-22 06:03:36.240000+00:00           None   \n\n                last_activity_date last_edit_date last_editor_display_name  \\\n0 2019-06-02 05:09:24.723000+00:00           None                     None   \n1 2019-05-26 23:21:11.503000+00:00           None                     None   \n2 2019-05-14 18:05:32.077000+00:00           None                     None   \n3 2019-05-19 12:15:57.697000+00:00           None                     None   \n4 2019-05-22 06:03:36.240000+00:00           None                     None   \n\n  last_editor_user_id owner_display_name  owner_user_id parent_id  \\\n0                None               None        7225816      None   \n1                None               None        1058951      None   \n2                None               None        8880735      None   \n3                None               None       11036699      None   \n4                None               None        9493974      None   \n\n   post_type_id  score                                            tags  \\\n0             1      0                 <javascript><amazon-s3><stream>   \n1             1      0  <angular><docker><nginx><http-status-code-404>   \n2             1      0                                 <supercollider>   \n3             1      0                                        <amazon>   \n4             1      0                          <kubernetes-dashboard>   \n\n   view_count  \n0           1  \n1         257  \n2           2  \n3           2  \n4           2  ",
            "text/html": "<div>\n<style scoped>\n    .dataframe tbody tr th:only-of-type {\n        vertical-align: middle;\n    }\n\n    .dataframe tbody tr th {\n        vertical-align: top;\n    }\n\n    .dataframe thead th {\n        text-align: right;\n    }\n</style>\n<table border=\"1\" class=\"dataframe\">\n  <thead>\n    <tr style=\"text-align: right;\">\n      <th></th>\n      <th>id</th>\n      <th>title</th>\n      <th>body</th>\n      <th>accepted_answer_id</th>\n      <th>answer_count</th>\n      <th>comment_count</th>\n      <th>community_owned_date</th>\n      <th>creation_date</th>\n      <th>favorite_count</th>\n      <th>last_activity_date</th>\n      <th>last_edit_date</th>\n      <th>last_editor_display_name</th>\n      <th>last_editor_user_id</th>\n      <th>owner_display_name</th>\n      <th>owner_user_id</th>\n      <th>parent_id</th>\n      <th>post_type_id</th>\n      <th>score</th>\n      <th>tags</th>\n      <th>view_count</th>\n    </tr>\n  </thead>\n  <tbody>\n    <tr>\n      <td>0</td>\n      <td>56412356</td>\n      <td>S3 Multipart upload with pause and resume func...</td>\n      <td>&lt;p&gt;I am trying to acheive s3 multipart upload ...</td>\n      <td>None</td>\n      <td>0</td>\n      <td>0</td>\n      <td>None</td>\n      <td>2019-06-02 05:09:24.723000+00:00</td>\n      <td>None</td>\n      <td>2019-06-02 05:09:24.723000+00:00</td>\n      <td>None</td>\n      <td>None</td>\n      <td>None</td>\n      <td>None</td>\n      <td>7225816</td>\n      <td>None</td>\n      <td>1</td>\n      <td>0</td>\n      <td>&lt;javascript&gt;&lt;amazon-s3&gt;&lt;stream&gt;</td>\n      <td>1</td>\n    </tr>\n    <tr>\n      <td>1</td>\n      <td>56318079</td>\n      <td>Angular Nginx Docker 404</td>\n      <td>&lt;p&gt;Been driving myself nuts trying to figure t...</td>\n      <td>None</td>\n      <td>1</td>\n      <td>0</td>\n      <td>None</td>\n      <td>2019-05-26 23:14:43.403000+00:00</td>\n      <td>None</td>\n      <td>2019-05-26 23:21:11.503000+00:00</td>\n      <td>None</td>\n      <td>None</td>\n      <td>None</td>\n      <td>None</td>\n      <td>1058951</td>\n      <td>None</td>\n      <td>1</td>\n      <td>0</td>\n      <td>&lt;angular&gt;&lt;docker&gt;&lt;nginx&gt;&lt;http-status-code-404&gt;</td>\n      <td>257</td>\n    </tr>\n    <tr>\n      <td>2</td>\n      <td>56136152</td>\n      <td>Switch structure control for OSC msg</td>\n      <td>&lt;p&gt;I’m new to SC and the whole music programmi...</td>\n      <td>None</td>\n      <td>0</td>\n      <td>0</td>\n      <td>None</td>\n      <td>2019-05-14 18:05:32.077000+00:00</td>\n      <td>None</td>\n      <td>2019-05-14 18:05:32.077000+00:00</td>\n      <td>None</td>\n      <td>None</td>\n      <td>None</td>\n      <td>None</td>\n      <td>8880735</td>\n      <td>None</td>\n      <td>1</td>\n      <td>0</td>\n      <td>&lt;supercollider&gt;</td>\n      <td>2</td>\n    </tr>\n    <tr>\n      <td>3</td>\n      <td>56207713</td>\n      <td>AWS QuickSight - Smooth line graph/plot</td>\n      <td>&lt;p&gt;do you know if ''''AWS QuickSight'''' has a...</td>\n      <td>None</td>\n      <td>0</td>\n      <td>0</td>\n      <td>None</td>\n      <td>2019-05-19 12:15:57.697000+00:00</td>\n      <td>None</td>\n      <td>2019-05-19 12:15:57.697000+00:00</td>\n      <td>None</td>\n      <td>None</td>\n      <td>None</td>\n      <td>None</td>\n      <td>11036699</td>\n      <td>None</td>\n      <td>1</td>\n      <td>0</td>\n      <td>&lt;amazon&gt;</td>\n      <td>2</td>\n    </tr>\n    <tr>\n      <td>4</td>\n      <td>56250259</td>\n      <td>I am not able to access kubernetes dash-board ...</td>\n      <td>&lt;p&gt;I have installed docker and kubernetes in m...</td>\n      <td>None</td>\n      <td>0</td>\n      <td>0</td>\n      <td>None</td>\n      <td>2019-05-22 06:03:36.240000+00:00</td>\n      <td>None</td>\n      <td>2019-05-22 06:03:36.240000+00:00</td>\n      <td>None</td>\n      <td>None</td>\n      <td>None</td>\n      <td>None</td>\n      <td>9493974</td>\n      <td>None</td>\n      <td>1</td>\n      <td>0</td>\n      <td>&lt;kubernetes-dashboard&gt;</td>\n      <td>2</td>\n    </tr>\n  </tbody>\n</table>\n</div>"
          },
          "metadata": {}
        }
      ]
    },
    {
      "metadata": {},
      "cell_type": "markdown",
      "source": "Are there any fields that identify what topic or technology each question is about?\n\nIf so, how could you find the user ID\\'s of users who answered questions about a specific topic?\n\nThink about it, then check the solution by running the code in the next cell."
    },
    {
      "metadata": {
        "trusted": true
      },
      "cell_type": "code",
      "source": "q_2.solution()",
      "execution_count": 6,
      "outputs": [
        {
          "output_type": "display_data",
          "data": {
            "text/plain": "<IPython.core.display.Javascript object>",
            "application/javascript": "parent.postMessage({\"jupyterEvent\": \"custom.exercise_interaction\", \"data\": {\"interactionType\": 3, \"questionType\": 4, \"learnTutorialId\": 82, \"questionId\": \"2_HowToFindExperts\", \"learnToolsVersion\": \"0.3.2\", \"valueTowardsCompletion\": 0.0, \"failureMessage\": \"\", \"exceptionClass\": \"\", \"trace\": \"\", \"outcomeType\": 4}}, \"*\")"
          },
          "metadata": {}
        },
        {
          "output_type": "display_data",
          "data": {
            "text/plain": "Solution: \n`posts_questions` has a column called `tags` which lists the topics/technologies each question is about.\n\n`posts_answers` has a column called `parent_id` which identifies the ID of the question each answer is responding to.\n`posts_answers` also has an `owner_user_id` column which specifies the ID of the user who answered the question.\n\nYou can join these two tables to:\n- determine the `tags` for each answer, and then\n- select the `owner_user_id` of the answers on the desired tag.\n\nThis is exactly what you will do over the next few questions.",
            "text/markdown": "<span style=\"color:#33cc99\">Solution:</span> \n`posts_questions` has a column called `tags` which lists the topics/technologies each question is about.\n\n`posts_answers` has a column called `parent_id` which identifies the ID of the question each answer is responding to.\n`posts_answers` also has an `owner_user_id` column which specifies the ID of the user who answered the question.\n\nYou can join these two tables to:\n- determine the `tags` for each answer, and then\n- select the `owner_user_id` of the answers on the desired tag.\n\nThis is exactly what you will do over the next few questions.\n"
          },
          "metadata": {}
        }
      ]
    },
    {
      "metadata": {},
      "cell_type": "markdown",
      "source": "# 3 Selecting The Right Questions\n\nA lot of this data is text. \n\nHere is one last technique you'll learn in this course which you can apply to this text:\n\nA **WHERE** clause can limit your results to rows with certain text using the **LIKE** feature. For example, to select just the third row of the `pets` table, we would write\n\n`SELECT * FROM PETS WHERE NAME LIKE 'Ripley'`\n\n![](https://i.imgur.com/Ef4Puo3.png)\n\nYou can also use `%` as a \"wildcard\" for any number of characters. So you can get the third row with \n\n`SELECT * FROM PETS WHERE NAME LIKE '%ipl%'`\n\nTry this yourself.\nBefore finding users who have answered questions, write a query that selects the `id`, `title` and `owner_user_id` from the `posts_questions` table. Restrict the results to rows that contain the word **bigquery** in the `tags` column. Include rows where there is other text in addition to the word `bigquery` (e.g. if a row has a tag `bigquery-sql`, your results should include that too)."
    },
    {
      "metadata": {
        "trusted": true
      },
      "cell_type": "code",
      "source": "# Your code here\nquestions_query = \\\n\"\"\"\nSELECT id, title, owner_user_id\nFROM `bigquery-public-data.stackoverflow.posts_questions`\nWHERE tags LIKE '%bigquery%'\n\"\"\"\n\nquestions_results = stack_overflow.query_to_pandas_safe(questions_query, max_gb_scanned=25) # this query reads a lot of data\nprint(questions_results.head())\nq_3.check()\n",
      "execution_count": 7,
      "outputs": [
        {
          "output_type": "stream",
          "text": "         id                                              title  owner_user_id\n0  50514789  How do I create partitioned table from result ...      9798355.0\n1  50629098               Google Cloud Dataprep Import Recipes      7714325.0\n2  50427169                    Pcollection for multiple Tables      1115163.0\n3  50591099  Big Query SQL - group over all possible levels...      2054629.0\n4  50433595  Dataflow BigQuery read does not return correct...       527143.0\n",
          "name": "stdout"
        },
        {
          "output_type": "display_data",
          "data": {
            "text/plain": "<IPython.core.display.Javascript object>",
            "application/javascript": "parent.postMessage({\"jupyterEvent\": \"custom.exercise_interaction\", \"data\": {\"outcomeType\": 1, \"valueTowardsCompletion\": 0.25, \"interactionType\": 1, \"questionType\": 2, \"learnTutorialId\": 82, \"questionId\": \"3_SelectRightQuestions\", \"learnToolsVersion\": \"0.3.2\", \"failureMessage\": \"\", \"exceptionClass\": \"\", \"trace\": \"\"}}, \"*\")"
          },
          "metadata": {}
        },
        {
          "output_type": "display_data",
          "data": {
            "text/plain": "None"
          },
          "metadata": {}
        }
      ]
    },
    {
      "metadata": {
        "trusted": true
      },
      "cell_type": "code",
      "source": "# q_3.hint()\n# q_3.solution()",
      "execution_count": 8,
      "outputs": []
    },
    {
      "metadata": {},
      "cell_type": "markdown",
      "source": "# 4 Your First Join\nNow that you have a query to select questions on any given topic (in this case, you chose `bigquery`), you can find the answers to those questions with a **JOIN**.  \n\nWrite a SQL query that returns the `id`, `body` and `owner_user_id` from the `posts_answers` table for answers to `bigquery` related questions. That is, you should have one row in your results for each answer to a question that has a `bigquery` in the tag.\n\nHere's a reminder of what a **JOIN** looked like in the tutorial\n```\nSELECT p.Name AS Pet_Name, o.Name as Owner_Name\nFROM `bigquery-public-data.pet_records.pets` as p\nINNER JOIN `bigquery-public-data.pet_records.owners` as o ON p.ID = o.Pet_ID\n```\n\nIt may be useful to scroll up and review the results from when you called **head** on `posts_answers` and `posts_questions`.  "
    },
    {
      "metadata": {
        "trusted": true
      },
      "cell_type": "code",
      "source": "from time import time\n\nanswers_query = \\\n\"\"\"\nSELECT pa.id, pa.body, pa.owner_user_id\n    FROM `bigquery-public-data.stackoverflow.posts_questions` AS pq\n        INNER JOIN `bigquery-public-data.stackoverflow.posts_answers` AS pa\n            ON pq.id = pa.parent_id\n    WHERE pq.tags LIKE '%bigquery%'\n\"\"\"\n\nanswers_results = stack_overflow.query_to_pandas_safe(answers_query, max_gb_scanned=50) # query scans more than 1GB of data, but less than 2.\nprint(answers_results.head())\nq_4.check()",
      "execution_count": 9,
      "outputs": [
        {
          "output_type": "stream",
          "text": "         id                                               body  owner_user_id\n0  42692927  <p>It took me a while to find the answer.\\nOnc...      2015196.0\n1  42702312  <p>This <a href=\"https://stackoverflow.com/a/4...        33611.0\n2  42727478  <blockquote>\\n  <p>Why are the audit logs bein...       395927.0\n3  42771004  <p>As of release <a href=\"https://cloud.google...      6875448.0\n4  42825282  <p>If I understand you correctly, you want som...      1993206.0\n",
          "name": "stdout"
        },
        {
          "output_type": "display_data",
          "data": {
            "text/plain": "<IPython.core.display.Javascript object>",
            "application/javascript": "parent.postMessage({\"jupyterEvent\": \"custom.exercise_interaction\", \"data\": {\"outcomeType\": 1, \"valueTowardsCompletion\": 0.25, \"interactionType\": 1, \"questionType\": 2, \"learnTutorialId\": 82, \"questionId\": \"4_FirstJoin\", \"learnToolsVersion\": \"0.3.2\", \"failureMessage\": \"\", \"exceptionClass\": \"\", \"trace\": \"\"}}, \"*\")"
          },
          "metadata": {}
        },
        {
          "output_type": "display_data",
          "data": {
            "text/plain": "None"
          },
          "metadata": {}
        }
      ]
    },
    {
      "metadata": {
        "trusted": true
      },
      "cell_type": "code",
      "source": "# q_4.hint()\n# q_4.solution()",
      "execution_count": 10,
      "outputs": []
    },
    {
      "metadata": {},
      "cell_type": "markdown",
      "source": "# 5 Answer The Question\nYou have the merge you need. But you want a list of users who have answered many questions... which requires more work beyond your previous result.\n\nWrite a new query that selects data from the `posts_questions` and `posts_answers` tables. The results should have a single row for each user who answered at least one questions with a tag that includes the string `bigquery`. Each row in your results should have two columns:\n- a column called `user_id` that contains the `owner_user_id` from the `posts_answers` table\n- a column called `number_of_answers` that contains the number of answers the user has written to `bigquery` questions"
    },
    {
      "metadata": {
        "trusted": true
      },
      "cell_type": "code",
      "source": "# your code here\nbigquery_experts_query =  \\\n\"\"\"\nSELECT pa.owner_user_id AS user_id, COUNT(1) AS number_of_answers\n    FROM `bigquery-public-data.stackoverflow.posts_questions` AS pq\n        INNER JOIN `bigquery-public-data.stackoverflow.posts_answers` AS pa\n            ON pq.id = pa.parent_id\n    WHERE pq.tags LIKE '%bigquery%'\n    GROUP BY pa.owner_user_id\n    HAVING number_of_answers > 0\n\"\"\"\nbigquery_experts_results = stack_overflow.query_to_pandas_safe(bigquery_experts_query, max_gb_scanned=50)\n\nprint(bigquery_experts_results.head())\nq_5.check()",
      "execution_count": 11,
      "outputs": [
        {
          "output_type": "stream",
          "text": "     user_id  number_of_answers\n0   266531.0                  4\n1  4318535.0                  2\n2  1599619.0                  1\n3  3731823.0                  1\n4  1970514.0                  1\n",
          "name": "stdout"
        },
        {
          "output_type": "display_data",
          "data": {
            "text/plain": "<IPython.core.display.Javascript object>",
            "application/javascript": "parent.postMessage({\"jupyterEvent\": \"custom.exercise_interaction\", \"data\": {\"outcomeType\": 1, \"valueTowardsCompletion\": 0.25, \"interactionType\": 1, \"questionType\": 2, \"learnTutorialId\": 82, \"questionId\": \"5_BigQueryExperts\", \"learnToolsVersion\": \"0.3.2\", \"failureMessage\": \"\", \"exceptionClass\": \"\", \"trace\": \"\"}}, \"*\")"
          },
          "metadata": {}
        },
        {
          "output_type": "display_data",
          "data": {
            "text/plain": "None"
          },
          "metadata": {}
        }
      ]
    },
    {
      "metadata": {
        "trusted": true
      },
      "cell_type": "code",
      "source": "# q_5.hint()\n# q_5.solution()",
      "execution_count": 12,
      "outputs": []
    },
    {
      "metadata": {},
      "cell_type": "markdown",
      "source": "# Building A More Generally Useful Service\n\nHow could you convert what you've done so it's a general function a website could call on the backend to get experts on any topic?  \n\nThink about it and then check the solution below."
    },
    {
      "metadata": {
        "trusted": true
      },
      "cell_type": "code",
      "source": "def expert_finder(topic, bigQueryHelper):\n    '''\n    Returns a DataFrame with the user IDs who have written Stack Overflow answers on a topic.\n    \n    Inputs:\n        topic: A string with the topic of interest\n        bigQueryHelper: A BigQueryHelper object that specifies the connection to the Stack Overflow dataset\n\n    Outputs:\n        results: A DataFrame with columns for user_id and number_of_answers sorted by number_of_answers.\n    '''\n    query = f\"\"\"\n            SELECT pa.owner_user_id AS user_id, COUNT(1) AS number_of_answers\n                FROM `bigquery-public-data.stackoverflow.posts_questions` AS pq\n                    INNER JOIN `bigquery-public-data.stackoverflow.posts_answers` AS pa\n                        ON pq.id = pa.parent_id\n                WHERE pq.tags LIKE '%{topic}%'\n                GROUP BY pa.owner_user_id\n                ORDER BY number_of_answers DESC\n            \"\"\"\n    return bigQueryHelper.query_to_pandas_safe(query, max_gb_scanned=50)\n    \nprint(expert_finder('tensorflow', stack_overflow).head())",
      "execution_count": 15,
      "outputs": [
        {
          "output_type": "stream",
          "text": "     user_id  number_of_answers\n0  3574081.0               1065\n1   712995.0                478\n2  1782792.0                407\n3   992489.0                403\n4   419116.0                400\n",
          "name": "stdout"
        }
      ]
    },
    {
      "metadata": {
        "trusted": true
      },
      "cell_type": "code",
      "source": "# q_6.solution()",
      "execution_count": 16,
      "outputs": []
    },
    {
      "metadata": {},
      "cell_type": "markdown",
      "source": "# Congratulations\nYou know all the key components to use BigQuery and SQL effectively. Your SQL skills are sufficient to unlock many of the world's large datasets.\n\nWant to go play with your new powers?  Kaggle has BigQuery datasets available [here](https://www.kaggle.com/datasets?sortBy=hottest&group=public&page=1&pageSize=20&size=sizeAll&filetype=fileTypeBigQuery).\n\n# Feedback\nBring any questions or feedback to the [Learn Discussion Forum](https://www.kaggle.com/learn-forum).\n"
    },
    {
      "metadata": {},
      "cell_type": "markdown",
      "source": "---\n**[SQL Course Home Page](https://www.kaggle.com/learn/SQL)**\n\n"
    }
  ],
  "metadata": {
    "kernelspec": {
      "display_name": "Python 3",
      "language": "python",
      "name": "python3"
    },
    "language_info": {
      "codemirror_mode": {
        "name": "ipython",
        "version": 3
      },
      "file_extension": ".py",
      "mimetype": "text/x-python",
      "name": "python",
      "nbconvert_exporter": "python",
      "pygments_lexer": "ipython3",
      "version": "3.6.5"
    }
  },
  "nbformat": 4,
  "nbformat_minor": 1
}