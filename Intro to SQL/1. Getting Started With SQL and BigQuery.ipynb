{
    "cells": [
        {
            "metadata": {},
            "cell_type": "markdown",
            "source": "**[SQL Home Page](https://www.kaggle.com/learn/intro-to-sql)**\n\n---\n\n*This exercise involves you writing code, and we check it automatically to tell you if it's right. We're having a temporary problem with out checking infrastructure, causing a bar that says `None` in some cases when you have the right answer. We're sorry. We're fixing it. In the meantime, if you see a bar saying `None` that means you've done something good.*"
        },
        {
            "metadata": {},
            "cell_type": "markdown",
            "source": "# Introduction\n\nThe first test of your new data exploration skills uses data describing crime in the city of Chicago.\n\nBefore you get started, run the following cell. It sets up the automated feedback system to review your answers."
        },
        {
            "metadata": {
                "trusted": true
            },
            "cell_type": "code",
            "source": "# Set up feedack system\nfrom learntools.core import binder\nbinder.bind(globals())\nfrom learntools.sql.ex1 import *\nprint(\"Setup Complete\")",
            "execution_count": 1,
            "outputs": [
                {
                    "output_type": "stream",
                    "text": "Using Kaggle's public dataset BigQuery integration.\nSetup Complete\n",
                    "name": "stdout"
                }
            ]
        },
        {
            "metadata": {},
            "cell_type": "markdown",
            "source": "Use the next code cell to fetch the dataset."
        },
        {
            "metadata": {
                "trusted": true
            },
            "cell_type": "code",
            "source": "from google.cloud import bigquery\n\n# Create a \"Client\" object\nclient = bigquery.Client()\n\n# Construct a reference to the \"chicago_crime\" dataset\ndataset_ref = client.dataset(\"chicago_crime\", project=\"bigquery-public-data\")\n\n# API request - fetch the dataset\ndataset = client.get_dataset(dataset_ref)",
            "execution_count": 2,
            "outputs": [
                {
                    "output_type": "stream",
                    "text": "Using Kaggle's public dataset BigQuery integration.\n",
                    "name": "stdout"
                }
            ]
        },
        {
            "metadata": {},
            "cell_type": "markdown",
            "source": "# Exercises\n\n### 1) Count tables in the dataset\n\nHow many tables are in the Chicago Crime dataset?"
        },
        {
            "metadata": {
                "trusted": true
            },
            "cell_type": "code",
            "source": "# Write the code you need here to figure out the answer\ntable_ids = [x.table_id for x in client.list_tables(dataset)]\nprint(table_ids)",
            "execution_count": 3,
            "outputs": [
                {
                    "output_type": "stream",
                    "text": "['crime']\n",
                    "name": "stdout"
                }
            ]
        },
        {
            "metadata": {
                "trusted": true
            },
            "cell_type": "code",
            "source": "num_tables = len(table_ids)  # Store the answer as num_tables and then run this cell\n\nq_1.check()",
            "execution_count": 4,
            "outputs": [
                {
                    "output_type": "display_data",
                    "data": {
                        "text/plain": "<IPython.core.display.Javascript object>",
                        "application/javascript": "parent.postMessage({\"jupyterEvent\": \"custom.exercise_interaction\", \"data\": {\"outcomeType\": 1, \"valueTowardsCompletion\": 0.3333333333333333, \"interactionType\": 1, \"questionType\": 1, \"learnTutorialId\": 169, \"questionId\": \"1_CountTables\", \"learnToolsVersion\": \"0.3.2\", \"failureMessage\": \"\", \"exceptionClass\": \"\", \"trace\": \"\"}}, \"*\")"
                    },
                    "metadata": {}
                },
                {
                    "output_type": "display_data",
                    "data": {
                        "text/plain": "None"
                    },
                    "metadata": {}
                }
            ]
        },
        {
            "metadata": {},
            "cell_type": "markdown",
            "source": "For a hint or the solution, uncomment the appropriate line below."
        },
        {
            "metadata": {
                "trusted": true
            },
            "cell_type": "code",
            "source": "#q_1.hint()\n#q_1.solution()",
            "execution_count": 5,
            "outputs": []
        },
        {
            "metadata": {},
            "cell_type": "markdown",
            "source": "### 2) Explore the table schema\n\nHow many columns in the `crime` table have `TIMESTAMP` data?"
        },
        {
            "metadata": {
                "trusted": true
            },
            "cell_type": "code",
            "source": "# Write the code to figure out the answer\n# Construct a reference to the \"crime\" table\ntable_ref = dataset_ref.table(\"crime\")\n\n# API request - fetch the table\ntable = client.get_table(table_ref)\n\n# Print information on all the columns in the \"crime\" table in the \"chicago_crime\" dataset\ntable.schema",
            "execution_count": 6,
            "outputs": [
                {
                    "output_type": "execute_result",
                    "execution_count": 6,
                    "data": {
                        "text/plain": "[SchemaField('unique_key', 'INTEGER', 'REQUIRED', 'Unique identifier for the record.', ()),\n SchemaField('case_number', 'STRING', 'NULLABLE', 'The Chicago Police Department RD Number (Records Division Number), which is unique to the incident.', ()),\n SchemaField('date', 'TIMESTAMP', 'NULLABLE', 'Date when the incident occurred. this is sometimes a best estimate.', ()),\n SchemaField('block', 'STRING', 'NULLABLE', 'The partially redacted address where the incident occurred, placing it on the same block as the actual address.', ()),\n SchemaField('iucr', 'STRING', 'NULLABLE', 'The Illinois Unifrom Crime Reporting code. This is directly linked to the Primary Type and Description. See the list of IUCR codes at https://data.cityofchicago.org/d/c7ck-438e.', ()),\n SchemaField('primary_type', 'STRING', 'NULLABLE', 'The primary description of the IUCR code.', ()),\n SchemaField('description', 'STRING', 'NULLABLE', 'The secondary description of the IUCR code, a subcategory of the primary description.', ()),\n SchemaField('location_description', 'STRING', 'NULLABLE', 'Description of the location where the incident occurred.', ()),\n SchemaField('arrest', 'BOOLEAN', 'NULLABLE', 'Indicates whether an arrest was made.', ()),\n SchemaField('domestic', 'BOOLEAN', 'NULLABLE', 'Indicates whether the incident was domestic-related as defined by the Illinois Domestic Violence Act.', ()),\n SchemaField('beat', 'INTEGER', 'NULLABLE', 'Indicates the beat where the incident occurred. A beat is the smallest police geographic area – each beat has a dedicated police beat car. Three to five beats make up a police sector, and three sectors make up a police district. The Chicago Police Department has 22 police districts. See the beats at https://data.cityofchicago.org/d/aerh-rz74.', ()),\n SchemaField('district', 'INTEGER', 'NULLABLE', 'Indicates the police district where the incident occurred. See the districts at https://data.cityofchicago.org/d/fthy-xz3r.', ()),\n SchemaField('ward', 'INTEGER', 'NULLABLE', 'The ward (City Council district) where the incident occurred. See the wards at https://data.cityofchicago.org/d/sp34-6z76.', ()),\n SchemaField('community_area', 'INTEGER', 'NULLABLE', 'Indicates the community area where the incident occurred. Chicago has 77 community areas. See the community areas at https://data.cityofchicago.org/d/cauq-8yn6.', ()),\n SchemaField('fbi_code', 'STRING', 'NULLABLE', \"Indicates the crime classification as outlined in the FBI's National Incident-Based Reporting System (NIBRS). See the Chicago Police Department listing of these classifications at http://gis.chicagopolice.org/clearmap_crime_sums/crime_types.html.\", ()),\n SchemaField('x_coordinate', 'FLOAT', 'NULLABLE', 'The x coordinate of the location where the incident occurred in State Plane Illinois East NAD 1983 projection. This location is shifted from the actual location for partial redaction but falls on the same block.', ()),\n SchemaField('y_coordinate', 'FLOAT', 'NULLABLE', 'The y coordinate of the location where the incident occurred in State Plane Illinois East NAD 1983 projection. This location is shifted from the actual location for partial redaction but falls on the same block.', ()),\n SchemaField('year', 'INTEGER', 'NULLABLE', 'Year the incident occurred.', ()),\n SchemaField('updated_on', 'TIMESTAMP', 'NULLABLE', 'Date and time the record was last updated.', ()),\n SchemaField('latitude', 'FLOAT', 'NULLABLE', 'The latitude of the location where the incident occurred. This location is shifted from the actual location for partial redaction but falls on the same block.', ()),\n SchemaField('longitude', 'FLOAT', 'NULLABLE', 'The longitude of the location where the incident occurred. This location is shifted from the actual location for partial redaction but falls on the same block.', ()),\n SchemaField('location', 'STRING', 'NULLABLE', 'The location where the incident occurred in a format that allows for creation of maps and other geographic operations on this data portal. This location is shifted from the actual location for partial redaction but falls on the same block.', ())]"
                    },
                    "metadata": {}
                }
            ]
        },
        {
            "metadata": {
                "trusted": true
            },
            "cell_type": "code",
            "source": "# List of field of type TIMESTAMP\ntimestamp_fields = [x for x in table.schema if x.field_type == 'TIMESTAMP']\nnum_timestamp_fields = len(timestamp_fields) # Put your answer here\n\nq_2.check()",
            "execution_count": 7,
            "outputs": [
                {
                    "output_type": "display_data",
                    "data": {
                        "text/plain": "<IPython.core.display.Javascript object>",
                        "application/javascript": "parent.postMessage({\"jupyterEvent\": \"custom.exercise_interaction\", \"data\": {\"outcomeType\": 1, \"valueTowardsCompletion\": 0.3333333333333333, \"interactionType\": 1, \"questionType\": 1, \"learnTutorialId\": 169, \"questionId\": \"2_CountTimestampFields\", \"learnToolsVersion\": \"0.3.2\", \"failureMessage\": \"\", \"exceptionClass\": \"\", \"trace\": \"\"}}, \"*\")"
                    },
                    "metadata": {}
                },
                {
                    "output_type": "display_data",
                    "data": {
                        "text/plain": "None"
                    },
                    "metadata": {}
                }
            ]
        },
        {
            "metadata": {},
            "cell_type": "markdown",
            "source": "For a hint or the solution, uncomment the appropriate line below."
        },
        {
            "metadata": {
                "trusted": true
            },
            "cell_type": "code",
            "source": "#q_2.hint()\n#q_2.solution()",
            "execution_count": 8,
            "outputs": []
        },
        {
            "metadata": {},
            "cell_type": "markdown",
            "source": "### 3) Create a crime map\n\nIf you wanted to create a map with a dot at the location of each crime, what are the names of the two fields you likely need to pull out of the `crime` table to plot the crimes on a map?"
        },
        {
            "metadata": {
                "trusted": true
            },
            "cell_type": "code",
            "source": "# Write the code here to explore the data so you can find the answer\nclient.list_rows(table, max_results=5).to_dataframe()",
            "execution_count": 9,
            "outputs": [
                {
                    "output_type": "execute_result",
                    "execution_count": 9,
                    "data": {
                        "text/plain": "   unique_key case_number                      date               block  iucr  \\\n0    11825756    JC429839 2019-09-12 07:55:00+00:00     018XX E 87TH ST  1345   \n1    11806673    JC407261 2019-08-25 21:58:00+00:00  092XX S AVALON AVE  5132   \n2    11812836    JC414738 2019-08-24 00:00:00+00:00   092XX S ELLIS AVE  141B   \n3    11773079    JC366680 2019-07-23 17:50:00+00:00  049XX N NATOMA AVE  1153   \n4    11755329    JC337961 2019-07-06 09:30:00+00:00    068XX W IMLAY ST  1750   \n\n                 primary_type                                     description  \\\n0             CRIMINAL DAMAGE                     TO CITY OF CHICAGO PROPERTY   \n1               OTHER OFFENSE  VIOLENT OFFENDER: FAIL TO REGISTER NEW ADDRESS   \n2           WEAPONS VIOLATION                      UNLAWFUL USE OTHER FIREARM   \n3          DECEPTIVE PRACTICE             FINANCIAL IDENTITY THEFT OVER $ 300   \n4  OFFENSE INVOLVING CHILDREN                                     CHILD ABUSE   \n\n  location_description  arrest  domestic  ...  ward  community_area  fbi_code  \\\n0              CTA BUS   False     False  ...     8              45        14   \n1               STREET    True     False  ...     8              47        26   \n2               STREET   False     False  ...     8              47        15   \n3                 None   False     False  ...    45              10        11   \n4        PARK PROPERTY   False     False  ...    41              10       08B   \n\n   x_coordinate y_coordinate  year                updated_on   latitude  \\\n0     1189784.0    1847650.0  2019 2019-09-19 16:14:07+00:00  41.736991   \n1     1186152.0    1843974.0  2019 2019-09-01 16:06:45+00:00  41.726990   \n2     1184500.0    1843921.0  2019 2019-09-04 16:07:44+00:00  41.726884   \n3     1131237.0    1932406.0  2019 2019-07-31 16:03:38+00:00  41.970781   \n4     1129915.0    1942604.0  2019 2019-07-19 16:09:50+00:00  41.998788   \n\n   longitude                       location  \n0 -87.580269  (41.736991249, -87.580268606)  \n1 -87.593691  (41.726990349, -87.593690699)  \n2 -87.599744  (41.726883704, -87.599743769)  \n3 -87.792816  (41.970780567, -87.792815736)  \n4 -87.797442  (41.998787637, -87.797442315)  \n\n[5 rows x 22 columns]",
                        "text/html": "<div>\n<style scoped>\n    .dataframe tbody tr th:only-of-type {\n        vertical-align: middle;\n    }\n\n    .dataframe tbody tr th {\n        vertical-align: top;\n    }\n\n    .dataframe thead th {\n        text-align: right;\n    }\n</style>\n<table border=\"1\" class=\"dataframe\">\n  <thead>\n    <tr style=\"text-align: right;\">\n      <th></th>\n      <th>unique_key</th>\n      <th>case_number</th>\n      <th>date</th>\n      <th>block</th>\n      <th>iucr</th>\n      <th>primary_type</th>\n      <th>description</th>\n      <th>location_description</th>\n      <th>arrest</th>\n      <th>domestic</th>\n      <th>...</th>\n      <th>ward</th>\n      <th>community_area</th>\n      <th>fbi_code</th>\n      <th>x_coordinate</th>\n      <th>y_coordinate</th>\n      <th>year</th>\n      <th>updated_on</th>\n      <th>latitude</th>\n      <th>longitude</th>\n      <th>location</th>\n    </tr>\n  </thead>\n  <tbody>\n    <tr>\n      <td>0</td>\n      <td>11825756</td>\n      <td>JC429839</td>\n      <td>2019-09-12 07:55:00+00:00</td>\n      <td>018XX E 87TH ST</td>\n      <td>1345</td>\n      <td>CRIMINAL DAMAGE</td>\n      <td>TO CITY OF CHICAGO PROPERTY</td>\n      <td>CTA BUS</td>\n      <td>False</td>\n      <td>False</td>\n      <td>...</td>\n      <td>8</td>\n      <td>45</td>\n      <td>14</td>\n      <td>1189784.0</td>\n      <td>1847650.0</td>\n      <td>2019</td>\n      <td>2019-09-19 16:14:07+00:00</td>\n      <td>41.736991</td>\n      <td>-87.580269</td>\n      <td>(41.736991249, -87.580268606)</td>\n    </tr>\n    <tr>\n      <td>1</td>\n      <td>11806673</td>\n      <td>JC407261</td>\n      <td>2019-08-25 21:58:00+00:00</td>\n      <td>092XX S AVALON AVE</td>\n      <td>5132</td>\n      <td>OTHER OFFENSE</td>\n      <td>VIOLENT OFFENDER: FAIL TO REGISTER NEW ADDRESS</td>\n      <td>STREET</td>\n      <td>True</td>\n      <td>False</td>\n      <td>...</td>\n      <td>8</td>\n      <td>47</td>\n      <td>26</td>\n      <td>1186152.0</td>\n      <td>1843974.0</td>\n      <td>2019</td>\n      <td>2019-09-01 16:06:45+00:00</td>\n      <td>41.726990</td>\n      <td>-87.593691</td>\n      <td>(41.726990349, -87.593690699)</td>\n    </tr>\n    <tr>\n      <td>2</td>\n      <td>11812836</td>\n      <td>JC414738</td>\n      <td>2019-08-24 00:00:00+00:00</td>\n      <td>092XX S ELLIS AVE</td>\n      <td>141B</td>\n      <td>WEAPONS VIOLATION</td>\n      <td>UNLAWFUL USE OTHER FIREARM</td>\n      <td>STREET</td>\n      <td>False</td>\n      <td>False</td>\n      <td>...</td>\n      <td>8</td>\n      <td>47</td>\n      <td>15</td>\n      <td>1184500.0</td>\n      <td>1843921.0</td>\n      <td>2019</td>\n      <td>2019-09-04 16:07:44+00:00</td>\n      <td>41.726884</td>\n      <td>-87.599744</td>\n      <td>(41.726883704, -87.599743769)</td>\n    </tr>\n    <tr>\n      <td>3</td>\n      <td>11773079</td>\n      <td>JC366680</td>\n      <td>2019-07-23 17:50:00+00:00</td>\n      <td>049XX N NATOMA AVE</td>\n      <td>1153</td>\n      <td>DECEPTIVE PRACTICE</td>\n      <td>FINANCIAL IDENTITY THEFT OVER $ 300</td>\n      <td>None</td>\n      <td>False</td>\n      <td>False</td>\n      <td>...</td>\n      <td>45</td>\n      <td>10</td>\n      <td>11</td>\n      <td>1131237.0</td>\n      <td>1932406.0</td>\n      <td>2019</td>\n      <td>2019-07-31 16:03:38+00:00</td>\n      <td>41.970781</td>\n      <td>-87.792816</td>\n      <td>(41.970780567, -87.792815736)</td>\n    </tr>\n    <tr>\n      <td>4</td>\n      <td>11755329</td>\n      <td>JC337961</td>\n      <td>2019-07-06 09:30:00+00:00</td>\n      <td>068XX W IMLAY ST</td>\n      <td>1750</td>\n      <td>OFFENSE INVOLVING CHILDREN</td>\n      <td>CHILD ABUSE</td>\n      <td>PARK PROPERTY</td>\n      <td>False</td>\n      <td>False</td>\n      <td>...</td>\n      <td>41</td>\n      <td>10</td>\n      <td>08B</td>\n      <td>1129915.0</td>\n      <td>1942604.0</td>\n      <td>2019</td>\n      <td>2019-07-19 16:09:50+00:00</td>\n      <td>41.998788</td>\n      <td>-87.797442</td>\n      <td>(41.998787637, -87.797442315)</td>\n    </tr>\n  </tbody>\n</table>\n<p>5 rows × 22 columns</p>\n</div>"
                    },
                    "metadata": {}
                }
            ]
        },
        {
            "metadata": {
                "trusted": true
            },
            "cell_type": "code",
            "source": "fields_for_plotting = ['latitude', 'longitude'] # Put your answers here\n\nq_3.check()",
            "execution_count": 10,
            "outputs": [
                {
                    "output_type": "display_data",
                    "data": {
                        "text/plain": "<IPython.core.display.Javascript object>",
                        "application/javascript": "parent.postMessage({\"jupyterEvent\": \"custom.exercise_interaction\", \"data\": {\"outcomeType\": 1, \"valueTowardsCompletion\": 0.3333333333333333, \"interactionType\": 1, \"questionType\": 2, \"learnTutorialId\": 169, \"questionId\": \"3_IdentifyFieldsForPlotting\", \"learnToolsVersion\": \"0.3.2\", \"failureMessage\": \"\", \"exceptionClass\": \"\", \"trace\": \"\"}}, \"*\")"
                    },
                    "metadata": {}
                },
                {
                    "output_type": "display_data",
                    "data": {
                        "text/plain": "None"
                    },
                    "metadata": {}
                }
            ]
        },
        {
            "metadata": {},
            "cell_type": "markdown",
            "source": "For a hint or the solution, uncomment the appropriate line below."
        },
        {
            "metadata": {
                "trusted": true
            },
            "cell_type": "code",
            "source": "#q_3.hint()\n#q_3.solution()",
            "execution_count": 11,
            "outputs": []
        },
        {
            "metadata": {},
            "cell_type": "markdown",
            "source": "Thinking about the question above, there are a few columns that appear to have geographic data. Look at a few values (with the `list_rows()` command) to see if you can determine their relationship.  Two columns will still be hard to interpret. But it should be obvious how the `location` column relates to `latitude` and `longitude`."
        },
        {
            "metadata": {
                "trusted": true
            },
            "cell_type": "code",
            "source": "# Scratch space for your code\nclient.list_rows(table, selected_fields=table.schema[-3:], max_results=5).to_dataframe()",
            "execution_count": 12,
            "outputs": [
                {
                    "output_type": "execute_result",
                    "execution_count": 12,
                    "data": {
                        "text/plain": "    latitude  longitude                       location\n0  41.736991 -87.580269  (41.736991249, -87.580268606)\n1  41.726990 -87.593691  (41.726990349, -87.593690699)\n2  41.726884 -87.599744  (41.726883704, -87.599743769)\n3  41.970781 -87.792816  (41.970780567, -87.792815736)\n4  41.998788 -87.797442  (41.998787637, -87.797442315)",
                        "text/html": "<div>\n<style scoped>\n    .dataframe tbody tr th:only-of-type {\n        vertical-align: middle;\n    }\n\n    .dataframe tbody tr th {\n        vertical-align: top;\n    }\n\n    .dataframe thead th {\n        text-align: right;\n    }\n</style>\n<table border=\"1\" class=\"dataframe\">\n  <thead>\n    <tr style=\"text-align: right;\">\n      <th></th>\n      <th>latitude</th>\n      <th>longitude</th>\n      <th>location</th>\n    </tr>\n  </thead>\n  <tbody>\n    <tr>\n      <td>0</td>\n      <td>41.736991</td>\n      <td>-87.580269</td>\n      <td>(41.736991249, -87.580268606)</td>\n    </tr>\n    <tr>\n      <td>1</td>\n      <td>41.726990</td>\n      <td>-87.593691</td>\n      <td>(41.726990349, -87.593690699)</td>\n    </tr>\n    <tr>\n      <td>2</td>\n      <td>41.726884</td>\n      <td>-87.599744</td>\n      <td>(41.726883704, -87.599743769)</td>\n    </tr>\n    <tr>\n      <td>3</td>\n      <td>41.970781</td>\n      <td>-87.792816</td>\n      <td>(41.970780567, -87.792815736)</td>\n    </tr>\n    <tr>\n      <td>4</td>\n      <td>41.998788</td>\n      <td>-87.797442</td>\n      <td>(41.998787637, -87.797442315)</td>\n    </tr>\n  </tbody>\n</table>\n</div>"
                    },
                    "metadata": {}
                }
            ]
        },
        {
            "metadata": {},
            "cell_type": "markdown",
            "source": "# Keep going\n\nYou've looked at the schema, but you haven't yet done anything exciting with the data itself. Things get more interesting when you get to the data, so keep going to **[write your first SQL query](https://www.kaggle.com/dansbecker/select-from-where).**"
        },
        {
            "metadata": {},
            "cell_type": "markdown",
            "source": "---\n**[SQL Home Page](https://www.kaggle.com/learn/intro-to-sql)**\n\n\n\n\n\n*Have questions or comments? Visit the [Learn Discussion forum](https://www.kaggle.com/learn-forum) to chat with other Learners.*"
        }
    ],
    "metadata": {
        "kernelspec": {
            "display_name": "Python 3",
            "language": "python",
            "name": "python3"
        },
        "language_info": {
            "codemirror_mode": {
                "name": "ipython",
                "version": 3
            },
            "file_extension": ".py",
            "mimetype": "text/x-python",
            "name": "python",
            "nbconvert_exporter": "python",
            "pygments_lexer": "ipython3",
            "version": "3.6.5"
        }
    },
    "nbformat": 4,
    "nbformat_minor": 1
}