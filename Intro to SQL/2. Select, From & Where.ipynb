{
    "cells": [
        {
            "metadata": {},
            "cell_type": "markdown",
            "source": "**[SQL Course Home Page](https://www.kaggle.com/learn/SQL)**\n\n---\n"
        },
        {
            "metadata": {},
            "cell_type": "markdown",
            "source": "# Intro\n\nTry some **SELECT** statements of your own to see if you can answer the questions from a large dataset of air pollution measurements.\n\nAgain, run the cell below to set everything up."
        },
        {
            "metadata": {
                "trusted": true
            },
            "cell_type": "code",
            "source": "# Set up feedack system\nfrom learntools.core import binder\nbinder.bind(globals())\nfrom learntools.sql.ex2 import *\n\n# import package with helper functions \nimport bq_helper\n\n# create a helper object for this dataset\nopen_aq = bq_helper.BigQueryHelper(active_project=\"bigquery-public-data\",\n                                   dataset_name=\"openaq\")\n\nprint(\"Setup Complete\")\n\n# print list of tables in this dataset (there's only one!)\nprint('Tables list: {}'.format(open_aq.list_tables()))\n\n# print look at top few rows\nopen_aq.head('global_air_quality')\n",
            "execution_count": 1,
            "outputs": [
                {
                    "output_type": "stream",
                    "text": "Using Kaggle's public dataset BigQuery integration.\nUsing Kaggle's public dataset BigQuery integration.\nSetup Complete\nTables list: ['global_air_quality']\n",
                    "name": "stdout"
                },
                {
                    "output_type": "execute_result",
                    "execution_count": 1,
                    "data": {
                        "text/plain": "                        location       city country pollutant   value  \\\n0  BTM Layout, Bengaluru - KSPCB  Bengaluru      IN        co  910.00   \n1  BTM Layout, Bengaluru - KSPCB  Bengaluru      IN       no2  131.87   \n2  BTM Layout, Bengaluru - KSPCB  Bengaluru      IN        o3   15.57   \n3  BTM Layout, Bengaluru - KSPCB  Bengaluru      IN      pm25   45.62   \n4  BTM Layout, Bengaluru - KSPCB  Bengaluru      IN       so2    4.49   \n\n                  timestamp   unit source_name   latitude  longitude  \\\n0 2018-02-22 03:00:00+00:00  µg/m³        CPCB  12.912811   77.60922   \n1 2018-02-22 03:00:00+00:00  µg/m³        CPCB  12.912811   77.60922   \n2 2018-02-22 03:00:00+00:00  µg/m³        CPCB  12.912811   77.60922   \n3 2018-02-22 03:00:00+00:00  µg/m³        CPCB  12.912811   77.60922   \n4 2018-02-22 03:00:00+00:00  µg/m³        CPCB  12.912811   77.60922   \n\n   averaged_over_in_hours  \n0                    0.25  \n1                    0.25  \n2                    0.25  \n3                    0.25  \n4                    0.25  ",
                        "text/html": "<div>\n<style scoped>\n    .dataframe tbody tr th:only-of-type {\n        vertical-align: middle;\n    }\n\n    .dataframe tbody tr th {\n        vertical-align: top;\n    }\n\n    .dataframe thead th {\n        text-align: right;\n    }\n</style>\n<table border=\"1\" class=\"dataframe\">\n  <thead>\n    <tr style=\"text-align: right;\">\n      <th></th>\n      <th>location</th>\n      <th>city</th>\n      <th>country</th>\n      <th>pollutant</th>\n      <th>value</th>\n      <th>timestamp</th>\n      <th>unit</th>\n      <th>source_name</th>\n      <th>latitude</th>\n      <th>longitude</th>\n      <th>averaged_over_in_hours</th>\n    </tr>\n  </thead>\n  <tbody>\n    <tr>\n      <td>0</td>\n      <td>BTM Layout, Bengaluru - KSPCB</td>\n      <td>Bengaluru</td>\n      <td>IN</td>\n      <td>co</td>\n      <td>910.00</td>\n      <td>2018-02-22 03:00:00+00:00</td>\n      <td>µg/m³</td>\n      <td>CPCB</td>\n      <td>12.912811</td>\n      <td>77.60922</td>\n      <td>0.25</td>\n    </tr>\n    <tr>\n      <td>1</td>\n      <td>BTM Layout, Bengaluru - KSPCB</td>\n      <td>Bengaluru</td>\n      <td>IN</td>\n      <td>no2</td>\n      <td>131.87</td>\n      <td>2018-02-22 03:00:00+00:00</td>\n      <td>µg/m³</td>\n      <td>CPCB</td>\n      <td>12.912811</td>\n      <td>77.60922</td>\n      <td>0.25</td>\n    </tr>\n    <tr>\n      <td>2</td>\n      <td>BTM Layout, Bengaluru - KSPCB</td>\n      <td>Bengaluru</td>\n      <td>IN</td>\n      <td>o3</td>\n      <td>15.57</td>\n      <td>2018-02-22 03:00:00+00:00</td>\n      <td>µg/m³</td>\n      <td>CPCB</td>\n      <td>12.912811</td>\n      <td>77.60922</td>\n      <td>0.25</td>\n    </tr>\n    <tr>\n      <td>3</td>\n      <td>BTM Layout, Bengaluru - KSPCB</td>\n      <td>Bengaluru</td>\n      <td>IN</td>\n      <td>pm25</td>\n      <td>45.62</td>\n      <td>2018-02-22 03:00:00+00:00</td>\n      <td>µg/m³</td>\n      <td>CPCB</td>\n      <td>12.912811</td>\n      <td>77.60922</td>\n      <td>0.25</td>\n    </tr>\n    <tr>\n      <td>4</td>\n      <td>BTM Layout, Bengaluru - KSPCB</td>\n      <td>Bengaluru</td>\n      <td>IN</td>\n      <td>so2</td>\n      <td>4.49</td>\n      <td>2018-02-22 03:00:00+00:00</td>\n      <td>µg/m³</td>\n      <td>CPCB</td>\n      <td>12.912811</td>\n      <td>77.60922</td>\n      <td>0.25</td>\n    </tr>\n  </tbody>\n</table>\n</div>"
                    },
                    "metadata": {}
                }
            ]
        },
        {
            "metadata": {},
            "cell_type": "markdown",
            "source": "Now you'll write and run the code to answer the questions below."
        },
        {
            "metadata": {},
            "cell_type": "markdown",
            "source": "# Question\n\n#### 1) Which countries have reported pollution levels in units of \"ppm\"? \n\nIn case it's useful to see an example query, here's some code from the tutorial:\n\n```\nquery = \"\"\"SELECT city\n            FROM `bigquery-public-data.openaq.global_air_quality`\n            WHERE country = 'US'\n        \"\"\"\nopen_aq.query_to_pandas_safe(query)```"
        },
        {
            "metadata": {
                "trusted": true
            },
            "cell_type": "code",
            "source": "# Your Code Goes Here\nfirst_query = \"\"\"SELECT DISTINCT country\n                   FROM `bigquery-public-data.openaq.global_air_quality`\n                   WHERE unit = \"ppm\" \"\"\"\n\nfirst_results = open_aq.query_to_pandas_safe(first_query)\n\n# View top few rows of results\nprint(first_results.head())\n\nq_1.check()",
            "execution_count": 2,
            "outputs": [
                {
                    "output_type": "stream",
                    "text": "  country\n0      US\n1      CL\n2      MX\n3      CA\n4      IL\n",
                    "name": "stdout"
                },
                {
                    "output_type": "display_data",
                    "data": {
                        "text/plain": "<IPython.core.display.Javascript object>",
                        "application/javascript": "parent.postMessage({\"jupyterEvent\": \"custom.exercise_interaction\", \"data\": {\"outcomeType\": 1, \"valueTowardsCompletion\": 0.5, \"interactionType\": 1, \"questionType\": 2, \"learnTutorialId\": 78, \"questionId\": \"1_WhichCountries\", \"learnToolsVersion\": \"0.3.2\", \"failureMessage\": \"\", \"exceptionClass\": \"\", \"trace\": \"\"}}, \"*\")"
                    },
                    "metadata": {}
                },
                {
                    "output_type": "display_data",
                    "data": {
                        "text/plain": "None"
                    },
                    "metadata": {}
                }
            ]
        },
        {
            "metadata": {},
            "cell_type": "markdown",
            "source": "For the solution, uncomment the line below."
        },
        {
            "metadata": {
                "trusted": true
            },
            "cell_type": "code",
            "source": "#q_1.solution()",
            "execution_count": 3,
            "outputs": []
        },
        {
            "metadata": {},
            "cell_type": "markdown",
            "source": "#### 2) Select all columns of the rows where pollution levels were reported to be exactly 0?"
        },
        {
            "metadata": {
                "trusted": true
            },
            "cell_type": "code",
            "source": "# Your Code Goes Here\n\nzero_pollution_query = \"\"\"SELECT *\n                            FROM `bigquery-public-data.openaq.global_air_quality`\n                            WHERE value = 0\"\"\"\n\nzero_pollution_results = open_aq.query_to_pandas_safe(zero_pollution_query)\n\nprint(zero_pollution_results.head())\n\nq_2.check()",
            "execution_count": 4,
            "outputs": [
                {
                    "output_type": "stream",
                    "text": "                                        location      city country pollutant  \\\n0                     Victoria Memorial - WBSPCB   Kolkata      IN      pm25   \n1  Rabindra Bharati University, Kolkata - WBSPCB   Kolkata      IN       so2   \n2                               Końskie, MOBILNA   Końskie      PL      pm10   \n3                               Końskie, MOBILNA   Końskie      PL      pm25   \n4                                    NałęczówMOB  Nałęczów      PL        bc   \n\n   value                 timestamp   unit source_name   latitude  longitude  \\\n0    0.0 2017-10-16 20:45:00+00:00  µg/m³        CPCB  22.572645  88.363890   \n1    0.0 2017-10-28 14:30:00+00:00  µg/m³        CPCB  22.627874  88.380400   \n2    0.0 2018-12-21 13:00:00+00:00  µg/m³        GIOS  51.189526  20.408892   \n3    0.0 2018-12-21 13:00:00+00:00  µg/m³        GIOS  51.189526  20.408892   \n4    0.0 2019-08-27 04:00:00+00:00  µg/m³        GIOS  51.284930  22.210241   \n\n   averaged_over_in_hours  \n0                    0.25  \n1                    0.25  \n2                     NaN  \n3                     NaN  \n4                     NaN  \n",
                    "name": "stdout"
                },
                {
                    "output_type": "display_data",
                    "data": {
                        "text/plain": "<IPython.core.display.Javascript object>",
                        "application/javascript": "parent.postMessage({\"jupyterEvent\": \"custom.exercise_interaction\", \"data\": {\"outcomeType\": 1, \"valueTowardsCompletion\": 0.5, \"interactionType\": 1, \"questionType\": 2, \"learnTutorialId\": 78, \"questionId\": \"2_ZeroPollution\", \"learnToolsVersion\": \"0.3.2\", \"failureMessage\": \"\", \"exceptionClass\": \"\", \"trace\": \"\"}}, \"*\")"
                    },
                    "metadata": {}
                },
                {
                    "output_type": "display_data",
                    "data": {
                        "text/plain": "None"
                    },
                    "metadata": {}
                }
            ]
        },
        {
            "metadata": {},
            "cell_type": "markdown",
            "source": "For the solution, uncomment the line below:"
        },
        {
            "metadata": {
                "trusted": true
            },
            "cell_type": "code",
            "source": "#q_2.solution()",
            "execution_count": 5,
            "outputs": []
        },
        {
            "metadata": {},
            "cell_type": "markdown",
            "source": "That query wasn't too complicated, and it got the data you want. But these **SELECT** queries don't organizing data in a way that answers the most interesting questions. For that, we'll need the **GROUP BY** command. \n\nIf you know how to use `groupby` in Pandas, this is similar. But BigQuery works quickly with far larger datasets.\n\nFortunately, that's next."
        },
        {
            "metadata": {},
            "cell_type": "markdown",
            "source": "# Keep Going\n**[GROUP BY](https://www.kaggle.com/dansbecker/group-by-having-count)** clauses and their extensions give you the power to pull interesting statistics out of data, rather than receiving it in just it's raw format."
        },
        {
            "metadata": {},
            "cell_type": "markdown",
            "source": "---\n**[SQL Course Home Page](https://www.kaggle.com/learn/SQL)**\n\n"
        }
    ],
    "metadata": {
        "kernelspec": {
            "display_name": "Python 3",
            "language": "python",
            "name": "python3"
        },
        "language_info": {
            "codemirror_mode": {
                "name": "ipython",
                "version": 3
            },
            "file_extension": ".py",
            "mimetype": "text/x-python",
            "name": "python",
            "nbconvert_exporter": "python",
            "pygments_lexer": "ipython3",
            "version": "3.6.5"
        }
    },
    "nbformat": 4,
    "nbformat_minor": 1
}